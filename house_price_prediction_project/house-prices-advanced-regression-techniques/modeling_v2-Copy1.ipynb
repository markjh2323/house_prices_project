{
 "cells": [
  {
   "cell_type": "code",
   "execution_count": 1,
   "metadata": {},
   "outputs": [
    {
     "name": "stderr",
     "output_type": "stream",
     "text": [
      "C:\\Users\\EngMA\\anaconda3\\lib\\site-packages\\numpy\\_distributor_init.py:30: UserWarning: loaded more than 1 DLL from .libs:\n",
      "C:\\Users\\EngMA\\anaconda3\\lib\\site-packages\\numpy\\.libs\\libopenblas.EL2C6PLE4ZYW3ECEVIV3OXXGRN2NRFM2.gfortran-win_amd64.dll\n",
      "C:\\Users\\EngMA\\anaconda3\\lib\\site-packages\\numpy\\.libs\\libopenblas.WCDJNK7YVMPZQ2ME2ZZHJJRJ3JIKNDB7.gfortran-win_amd64.dll\n",
      "  warnings.warn(\"loaded more than 1 DLL from .libs:\"\n"
     ]
    }
   ],
   "source": [
    "import pandas as pd\n",
    "import numpy as np\n",
    "import seaborn as sns\n",
    "import matplotlib.pyplot as plt\n",
    "\n",
    "from sklearn.model_selection import train_test_split, GridSearchCV\n",
    "from sklearn.preprocessing import StandardScaler\n",
    "from sklearn.ensemble import RandomForestRegressor, GradientBoostingRegressor\n",
    "from sklearn.metrics import mean_squared_error\n",
    "from sklearn.linear_model import Lasso,LinearRegression,LassoCV, RidgeCV, ElasticNetCV\n",
    "from xgboost import XGBRegressor\n",
    "\n",
    "\n",
    "from sklearn.tree import DecisionTreeRegressor\n",
    "from lightgbm import LGBMRegressor\n",
    "\n",
    "\n",
    "from sklearn.ensemble import StackingRegressor\n",
    "\n",
    "from scipy import stats\n",
    "from scipy.stats import norm, skew\n",
    "\n"
   ]
  },
  {
   "cell_type": "code",
   "execution_count": null,
   "metadata": {},
   "outputs": [],
   "source": []
  },
  {
   "cell_type": "code",
   "execution_count": 2,
   "metadata": {},
   "outputs": [],
   "source": [
    "df = pd.read_csv(\"final_dataframe.csv\")"
   ]
  },
  {
   "cell_type": "code",
   "execution_count": 3,
   "metadata": {},
   "outputs": [
    {
     "data": {
      "text/plain": [
       "0       12.247699\n",
       "1       12.109016\n",
       "2       12.317171\n",
       "3       11.849405\n",
       "4       12.429220\n",
       "          ...    \n",
       "1447    12.072547\n",
       "1448    12.254868\n",
       "1449    12.493133\n",
       "1450    11.864469\n",
       "1451    11.901590\n",
       "Name: SalePrice, Length: 1452, dtype: float64"
      ]
     },
     "execution_count": 3,
     "metadata": {},
     "output_type": "execute_result"
    }
   ],
   "source": [
    "df['SalePrice']"
   ]
  },
  {
   "cell_type": "code",
   "execution_count": 4,
   "metadata": {},
   "outputs": [
    {
     "name": "stdout",
     "output_type": "stream",
     "text": [
      "<class 'pandas.core.frame.DataFrame'>\n",
      "RangeIndex: 1452 entries, 0 to 1451\n",
      "Data columns (total 284 columns):\n",
      " #    Column                     Dtype  \n",
      "---   ------                     -----  \n",
      " 0    MSSubClass                 float64\n",
      " 1    MSZoning                   float64\n",
      " 2    LotFrontage                float64\n",
      " 3    LotArea                    float64\n",
      " 4    Street                     float64\n",
      " 5    Alley                      float64\n",
      " 6    LotShape                   float64\n",
      " 7    LandSlope                  float64\n",
      " 8    OverallQual                int64  \n",
      " 9    OverallCond                float64\n",
      " 10   YearBuilt                  int64  \n",
      " 11   YearRemodAdd               int64  \n",
      " 12   MasVnrArea                 float64\n",
      " 13   ExterQual                  float64\n",
      " 14   ExterCond                  float64\n",
      " 15   BsmtQual                   float64\n",
      " 16   BsmtCond                   float64\n",
      " 17   BsmtExposure               float64\n",
      " 18   BsmtFinType1               int64  \n",
      " 19   BsmtFinSF1                 float64\n",
      " 20   BsmtFinType2               float64\n",
      " 21   BsmtFinSF2                 float64\n",
      " 22   BsmtUnfSF                  float64\n",
      " 23   TotalBsmtSF                float64\n",
      " 24   HeatingQC                  float64\n",
      " 25   CentralAir                 float64\n",
      " 26   Electrical                 float64\n",
      " 27   1stFlrSF                   float64\n",
      " 28   2ndFlrSF                   float64\n",
      " 29   LowQualFinSF               float64\n",
      " 30   GrLivArea                  float64\n",
      " 31   BsmtFullBath               float64\n",
      " 32   BsmtHalfBath               float64\n",
      " 33   FullBath                   int64  \n",
      " 34   HalfBath                   float64\n",
      " 35   BedroomAbvGr               int64  \n",
      " 36   KitchenAbvGr               float64\n",
      " 37   KitchenQual                int64  \n",
      " 38   TotRmsAbvGrd               float64\n",
      " 39   Functional                 float64\n",
      " 40   Fireplaces                 float64\n",
      " 41   FireplaceQu                int64  \n",
      " 42   GarageType                 float64\n",
      " 43   GarageYrBlt                float64\n",
      " 44   GarageFinish               int64  \n",
      " 45   GarageCars                 int64  \n",
      " 46   GarageArea                 int64  \n",
      " 47   GarageQual                 float64\n",
      " 48   GarageCond                 float64\n",
      " 49   PavedDrive                 float64\n",
      " 50   WoodDeckSF                 float64\n",
      " 51   OpenPorchSF                float64\n",
      " 52   EnclosedPorch              float64\n",
      " 53   3SsnPorch                  float64\n",
      " 54   ScreenPorch                float64\n",
      " 55   PoolArea                   float64\n",
      " 56   PoolQC                     float64\n",
      " 57   Fence                      float64\n",
      " 58   MiscVal                    float64\n",
      " 59   SaleType                   float64\n",
      " 60   SaleCondition              float64\n",
      " 61   AggSF                      float64\n",
      " 62   bath_score                 float64\n",
      " 63   pool                       float64\n",
      " 64   pool_score                 float64\n",
      " 65   garage_score               float64\n",
      " 66   YrGroup                    int64  \n",
      " 67   porch_score                float64\n",
      " 68   Kitchen_score              float64\n",
      " 69   heat_fireplace_fQc         float64\n",
      " 70   overall_score              int64  \n",
      " 71   exter_score                float64\n",
      " 72   room_size                  float64\n",
      " 73   Neighborhood_encoded       float64\n",
      " 74   SalePrice                  float64\n",
      " 75   N_coded_mean               float64\n",
      " 76   LandContour_Bnk            int64  \n",
      " 77   LandContour_HLS            int64  \n",
      " 78   LandContour_Low            int64  \n",
      " 79   LandContour_Lvl            int64  \n",
      " 80   LotConfig_Corner           int64  \n",
      " 81   LotConfig_CulDSac          int64  \n",
      " 82   LotConfig_FR2              int64  \n",
      " 83   LotConfig_FR3              int64  \n",
      " 84   LotConfig_Inside           int64  \n",
      " 85   Neighborhood_Blmngtn       int64  \n",
      " 86   Neighborhood_Blueste       int64  \n",
      " 87   Neighborhood_BrDale        int64  \n",
      " 88   Neighborhood_BrkSide       int64  \n",
      " 89   Neighborhood_ClearCr       int64  \n",
      " 90   Neighborhood_CollgCr       int64  \n",
      " 91   Neighborhood_Crawfor       int64  \n",
      " 92   Neighborhood_Edwards       int64  \n",
      " 93   Neighborhood_Gilbert       int64  \n",
      " 94   Neighborhood_IDOTRR        int64  \n",
      " 95   Neighborhood_MeadowV       int64  \n",
      " 96   Neighborhood_Mitchel       int64  \n",
      " 97   Neighborhood_NAmes         int64  \n",
      " 98   Neighborhood_NPkVill       int64  \n",
      " 99   Neighborhood_NWAmes        int64  \n",
      " 100  Neighborhood_NoRidge       int64  \n",
      " 101  Neighborhood_NridgHt       int64  \n",
      " 102  Neighborhood_OldTown       int64  \n",
      " 103  Neighborhood_SWISU         int64  \n",
      " 104  Neighborhood_Sawyer        int64  \n",
      " 105  Neighborhood_SawyerW       int64  \n",
      " 106  Neighborhood_Somerst       int64  \n",
      " 107  Neighborhood_StoneBr       int64  \n",
      " 108  Neighborhood_Timber        int64  \n",
      " 109  Neighborhood_Veenker       int64  \n",
      " 110  Condition1_Artery          int64  \n",
      " 111  Condition1_Feedr           int64  \n",
      " 112  Condition1_Norm            int64  \n",
      " 113  Condition1_PosA            int64  \n",
      " 114  Condition1_PosN            int64  \n",
      " 115  Condition1_RRAe            int64  \n",
      " 116  Condition1_RRAn            int64  \n",
      " 117  Condition1_RRNe            int64  \n",
      " 118  Condition1_RRNn            int64  \n",
      " 119  Condition2_Artery          int64  \n",
      " 120  Condition2_Feedr           int64  \n",
      " 121  Condition2_Norm            int64  \n",
      " 122  Condition2_PosA            int64  \n",
      " 123  Condition2_PosN            int64  \n",
      " 124  Condition2_RRAe            int64  \n",
      " 125  Condition2_RRAn            int64  \n",
      " 126  Condition2_RRNn            int64  \n",
      " 127  BldgType_1Fam              int64  \n",
      " 128  BldgType_2fmCon            int64  \n",
      " 129  BldgType_Duplex            int64  \n",
      " 130  BldgType_Twnhs             int64  \n",
      " 131  BldgType_TwnhsE            int64  \n",
      " 132  HouseStyle_1.5Fin          int64  \n",
      " 133  HouseStyle_1.5Unf          int64  \n",
      " 134  HouseStyle_1Story          int64  \n",
      " 135  HouseStyle_2.5Fin          int64  \n",
      " 136  HouseStyle_2.5Unf          int64  \n",
      " 137  HouseStyle_2Story          int64  \n",
      " 138  HouseStyle_SFoyer          int64  \n",
      " 139  HouseStyle_SLvl            int64  \n",
      " 140  RoofStyle_Flat             int64  \n",
      " 141  RoofStyle_Gable            int64  \n",
      " 142  RoofStyle_Gambrel          int64  \n",
      " 143  RoofStyle_Hip              int64  \n",
      " 144  RoofStyle_Mansard          int64  \n",
      " 145  RoofStyle_Shed             int64  \n",
      " 146  RoofMatl_CompShg           int64  \n",
      " 147  RoofMatl_Membran           int64  \n",
      " 148  RoofMatl_Metal             int64  \n",
      " 149  RoofMatl_Roll              int64  \n",
      " 150  RoofMatl_Tar&Grv           int64  \n",
      " 151  RoofMatl_WdShake           int64  \n",
      " 152  RoofMatl_WdShngl           int64  \n",
      " 153  Exterior1st_AsbShng        int64  \n",
      " 154  Exterior1st_AsphShn        int64  \n",
      " 155  Exterior1st_BrkComm        int64  \n",
      " 156  Exterior1st_BrkFace        int64  \n",
      " 157  Exterior1st_CBlock         int64  \n",
      " 158  Exterior1st_CemntBd        int64  \n",
      " 159  Exterior1st_HdBoard        int64  \n",
      " 160  Exterior1st_ImStucc        int64  \n",
      " 161  Exterior1st_MetalSd        int64  \n",
      " 162  Exterior1st_Plywood        int64  \n",
      " 163  Exterior1st_Stone          int64  \n",
      " 164  Exterior1st_Stucco         int64  \n",
      " 165  Exterior1st_VinylSd        int64  \n",
      " 166  Exterior1st_Wd Sdng        int64  \n",
      " 167  Exterior1st_WdShing        int64  \n",
      " 168  Exterior2nd_AsbShng        int64  \n",
      " 169  Exterior2nd_AsphShn        int64  \n",
      " 170  Exterior2nd_Brk Cmn        int64  \n",
      " 171  Exterior2nd_BrkFace        int64  \n",
      " 172  Exterior2nd_CBlock         int64  \n",
      " 173  Exterior2nd_CmentBd        int64  \n",
      " 174  Exterior2nd_HdBoard        int64  \n",
      " 175  Exterior2nd_ImStucc        int64  \n",
      " 176  Exterior2nd_MetalSd        int64  \n",
      " 177  Exterior2nd_Other          int64  \n",
      " 178  Exterior2nd_Plywood        int64  \n",
      " 179  Exterior2nd_Stone          int64  \n",
      " 180  Exterior2nd_Stucco         int64  \n",
      " 181  Exterior2nd_VinylSd        int64  \n",
      " 182  Exterior2nd_Wd Sdng        int64  \n",
      " 183  Exterior2nd_Wd Shng        int64  \n",
      " 184  MasVnrType_BrkCmn          int64  \n",
      " 185  MasVnrType_BrkFace         int64  \n",
      " 186  MasVnrType_Does Not Have   int64  \n",
      " 187  MasVnrType_None            int64  \n",
      " 188  MasVnrType_Stone           int64  \n",
      " 189  Foundation_BrkTil          int64  \n",
      " 190  Foundation_CBlock          int64  \n",
      " 191  Foundation_PConc           int64  \n",
      " 192  Foundation_Slab            int64  \n",
      " 193  Foundation_Stone           int64  \n",
      " 194  Foundation_Wood            int64  \n",
      " 195  Heating_Floor              int64  \n",
      " 196  Heating_GasA               int64  \n",
      " 197  Heating_GasW               int64  \n",
      " 198  Heating_Grav               int64  \n",
      " 199  Heating_OthW               int64  \n",
      " 200  Heating_Wall               int64  \n",
      " 201  MiscFeature_Does Not Have  int64  \n",
      " 202  MiscFeature_Gar2           int64  \n",
      " 203  MiscFeature_Othr           int64  \n",
      " 204  MiscFeature_Shed           int64  \n",
      " 205  MiscFeature_TenC           int64  \n",
      " 206  MoSold_1                   int64  \n",
      " 207  MoSold_2                   int64  \n",
      " 208  MoSold_3                   int64  \n",
      " 209  MoSold_4                   int64  \n",
      " 210  MoSold_5                   int64  \n",
      " 211  MoSold_6                   int64  \n",
      " 212  MoSold_7                   int64  \n",
      " 213  MoSold_8                   int64  \n",
      " 214  MoSold_9                   int64  \n",
      " 215  MoSold_10                  int64  \n",
      " 216  MoSold_11                  int64  \n",
      " 217  MoSold_12                  int64  \n",
      " 218  YrSold_2006                int64  \n",
      " 219  YrSold_2007                int64  \n",
      " 220  YrSold_2008                int64  \n",
      " 221  YrSold_2009                int64  \n",
      " 222  YrSold_2010                int64  \n",
      " 223  years_model_0              int64  \n",
      " 224  years_model_1              int64  \n",
      " 225  years_model_2              int64  \n",
      " 226  years_model_3              int64  \n",
      " 227  years_model_4              int64  \n",
      " 228  years_model_5              int64  \n",
      " 229  years_model_6              int64  \n",
      " 230  years_model_7              int64  \n",
      " 231  years_model_8              int64  \n",
      " 232  years_model_9              int64  \n",
      " 233  years_model_10             int64  \n",
      " 234  years_model_11             int64  \n",
      " 235  years_model_12             int64  \n",
      " 236  years_model_13             int64  \n",
      " 237  years_model_14             int64  \n",
      " 238  years_model_15             int64  \n",
      " 239  years_model_16             int64  \n",
      " 240  years_model_17             int64  \n",
      " 241  years_model_18             int64  \n",
      " 242  years_model_19             int64  \n",
      " 243  years_model_20             int64  \n",
      " 244  years_model_21             int64  \n",
      " 245  years_model_22             int64  \n",
      " 246  years_model_23             int64  \n",
      " 247  years_model_24             int64  \n",
      " 248  years_model_25             int64  \n",
      " 249  years_model_26             int64  \n",
      " 250  years_model_27             int64  \n",
      " 251  years_model_28             int64  \n",
      " 252  years_model_29             int64  \n",
      " 253  years_model_30             int64  \n",
      " 254  years_model_31             int64  \n",
      " 255  years_model_32             int64  \n",
      " 256  years_model_33             int64  \n",
      " 257  years_model_34             int64  \n",
      " 258  years_model_35             int64  \n",
      " 259  years_model_36             int64  \n",
      " 260  years_model_37             int64  \n",
      " 261  years_model_38             int64  \n",
      " 262  years_model_39             int64  \n",
      " 263  years_model_40             int64  \n",
      " 264  years_model_41             int64  \n",
      " 265  years_model_42             int64  \n",
      " 266  years_model_43             int64  \n",
      " 267  years_model_44             int64  \n",
      " 268  years_model_45             int64  \n",
      " 269  years_model_46             int64  \n",
      " 270  years_model_47             int64  \n",
      " 271  years_model_48             int64  \n",
      " 272  years_model_49             int64  \n",
      " 273  years_model_50             int64  \n",
      " 274  years_model_51             int64  \n",
      " 275  years_model_52             int64  \n",
      " 276  years_model_53             int64  \n",
      " 277  years_model_54             int64  \n",
      " 278  years_model_55             int64  \n",
      " 279  years_model_56             int64  \n",
      " 280  years_model_57             int64  \n",
      " 281  years_model_58             int64  \n",
      " 282  years_model_59             int64  \n",
      " 283  years_model_60             int64  \n",
      "dtypes: float64(63), int64(221)\n",
      "memory usage: 3.1 MB\n"
     ]
    }
   ],
   "source": [
    "df.info(verbose = True)"
   ]
  },
  {
   "cell_type": "code",
   "execution_count": null,
   "metadata": {},
   "outputs": [],
   "source": []
  },
  {
   "cell_type": "code",
   "execution_count": 16,
   "metadata": {},
   "outputs": [
    {
     "data": {
      "text/html": [
       "<div>\n",
       "<style scoped>\n",
       "    .dataframe tbody tr th:only-of-type {\n",
       "        vertical-align: middle;\n",
       "    }\n",
       "\n",
       "    .dataframe tbody tr th {\n",
       "        vertical-align: top;\n",
       "    }\n",
       "\n",
       "    .dataframe thead th {\n",
       "        text-align: right;\n",
       "    }\n",
       "</style>\n",
       "<table border=\"1\" class=\"dataframe\">\n",
       "  <thead>\n",
       "    <tr style=\"text-align: right;\">\n",
       "      <th></th>\n",
       "      <th>MSSubClass</th>\n",
       "      <th>MSZoning</th>\n",
       "      <th>LotFrontage</th>\n",
       "      <th>LotArea</th>\n",
       "      <th>Street</th>\n",
       "      <th>Alley</th>\n",
       "      <th>LotShape</th>\n",
       "      <th>LandSlope</th>\n",
       "      <th>OverallQual</th>\n",
       "      <th>OverallCond</th>\n",
       "      <th>...</th>\n",
       "      <th>years_model_51</th>\n",
       "      <th>years_model_52</th>\n",
       "      <th>years_model_53</th>\n",
       "      <th>years_model_54</th>\n",
       "      <th>years_model_55</th>\n",
       "      <th>years_model_56</th>\n",
       "      <th>years_model_57</th>\n",
       "      <th>years_model_58</th>\n",
       "      <th>years_model_59</th>\n",
       "      <th>years_model_60</th>\n",
       "    </tr>\n",
       "  </thead>\n",
       "  <tbody>\n",
       "    <tr>\n",
       "      <th>0</th>\n",
       "      <td>2.708050</td>\n",
       "      <td>1.609438</td>\n",
       "      <td>4.189655</td>\n",
       "      <td>9.042040</td>\n",
       "      <td>0.693147</td>\n",
       "      <td>1.098612</td>\n",
       "      <td>1.386294</td>\n",
       "      <td>1.098612</td>\n",
       "      <td>7</td>\n",
       "      <td>1.791759</td>\n",
       "      <td>...</td>\n",
       "      <td>0</td>\n",
       "      <td>0</td>\n",
       "      <td>0</td>\n",
       "      <td>0</td>\n",
       "      <td>0</td>\n",
       "      <td>0</td>\n",
       "      <td>0</td>\n",
       "      <td>0</td>\n",
       "      <td>0</td>\n",
       "      <td>0</td>\n",
       "    </tr>\n",
       "    <tr>\n",
       "      <th>1</th>\n",
       "      <td>2.484907</td>\n",
       "      <td>1.609438</td>\n",
       "      <td>4.394449</td>\n",
       "      <td>9.169623</td>\n",
       "      <td>0.693147</td>\n",
       "      <td>1.098612</td>\n",
       "      <td>1.386294</td>\n",
       "      <td>1.098612</td>\n",
       "      <td>6</td>\n",
       "      <td>2.197225</td>\n",
       "      <td>...</td>\n",
       "      <td>0</td>\n",
       "      <td>0</td>\n",
       "      <td>0</td>\n",
       "      <td>0</td>\n",
       "      <td>0</td>\n",
       "      <td>0</td>\n",
       "      <td>0</td>\n",
       "      <td>0</td>\n",
       "      <td>0</td>\n",
       "      <td>0</td>\n",
       "    </tr>\n",
       "    <tr>\n",
       "      <th>2</th>\n",
       "      <td>2.708050</td>\n",
       "      <td>1.609438</td>\n",
       "      <td>4.234107</td>\n",
       "      <td>9.328212</td>\n",
       "      <td>0.693147</td>\n",
       "      <td>1.098612</td>\n",
       "      <td>1.098612</td>\n",
       "      <td>1.098612</td>\n",
       "      <td>7</td>\n",
       "      <td>1.791759</td>\n",
       "      <td>...</td>\n",
       "      <td>0</td>\n",
       "      <td>0</td>\n",
       "      <td>0</td>\n",
       "      <td>0</td>\n",
       "      <td>0</td>\n",
       "      <td>0</td>\n",
       "      <td>0</td>\n",
       "      <td>0</td>\n",
       "      <td>0</td>\n",
       "      <td>0</td>\n",
       "    </tr>\n",
       "    <tr>\n",
       "      <th>3</th>\n",
       "      <td>2.397895</td>\n",
       "      <td>1.609438</td>\n",
       "      <td>4.110874</td>\n",
       "      <td>9.164401</td>\n",
       "      <td>0.693147</td>\n",
       "      <td>1.098612</td>\n",
       "      <td>1.098612</td>\n",
       "      <td>1.098612</td>\n",
       "      <td>7</td>\n",
       "      <td>1.791759</td>\n",
       "      <td>...</td>\n",
       "      <td>0</td>\n",
       "      <td>0</td>\n",
       "      <td>0</td>\n",
       "      <td>0</td>\n",
       "      <td>0</td>\n",
       "      <td>0</td>\n",
       "      <td>0</td>\n",
       "      <td>0</td>\n",
       "      <td>0</td>\n",
       "      <td>0</td>\n",
       "    </tr>\n",
       "    <tr>\n",
       "      <th>4</th>\n",
       "      <td>2.708050</td>\n",
       "      <td>1.609438</td>\n",
       "      <td>4.442651</td>\n",
       "      <td>9.565284</td>\n",
       "      <td>0.693147</td>\n",
       "      <td>1.098612</td>\n",
       "      <td>1.098612</td>\n",
       "      <td>1.098612</td>\n",
       "      <td>8</td>\n",
       "      <td>1.791759</td>\n",
       "      <td>...</td>\n",
       "      <td>0</td>\n",
       "      <td>0</td>\n",
       "      <td>0</td>\n",
       "      <td>0</td>\n",
       "      <td>0</td>\n",
       "      <td>0</td>\n",
       "      <td>0</td>\n",
       "      <td>0</td>\n",
       "      <td>0</td>\n",
       "      <td>0</td>\n",
       "    </tr>\n",
       "    <tr>\n",
       "      <th>...</th>\n",
       "      <td>...</td>\n",
       "      <td>...</td>\n",
       "      <td>...</td>\n",
       "      <td>...</td>\n",
       "      <td>...</td>\n",
       "      <td>...</td>\n",
       "      <td>...</td>\n",
       "      <td>...</td>\n",
       "      <td>...</td>\n",
       "      <td>...</td>\n",
       "      <td>...</td>\n",
       "      <td>...</td>\n",
       "      <td>...</td>\n",
       "      <td>...</td>\n",
       "      <td>...</td>\n",
       "      <td>...</td>\n",
       "      <td>...</td>\n",
       "      <td>...</td>\n",
       "      <td>...</td>\n",
       "      <td>...</td>\n",
       "      <td>...</td>\n",
       "    </tr>\n",
       "    <tr>\n",
       "      <th>1447</th>\n",
       "      <td>2.708050</td>\n",
       "      <td>1.609438</td>\n",
       "      <td>4.143135</td>\n",
       "      <td>8.976894</td>\n",
       "      <td>0.693147</td>\n",
       "      <td>1.098612</td>\n",
       "      <td>1.386294</td>\n",
       "      <td>1.098612</td>\n",
       "      <td>6</td>\n",
       "      <td>1.791759</td>\n",
       "      <td>...</td>\n",
       "      <td>0</td>\n",
       "      <td>0</td>\n",
       "      <td>0</td>\n",
       "      <td>0</td>\n",
       "      <td>0</td>\n",
       "      <td>0</td>\n",
       "      <td>0</td>\n",
       "      <td>0</td>\n",
       "      <td>0</td>\n",
       "      <td>0</td>\n",
       "    </tr>\n",
       "    <tr>\n",
       "      <th>1448</th>\n",
       "      <td>2.484907</td>\n",
       "      <td>1.609438</td>\n",
       "      <td>4.454347</td>\n",
       "      <td>9.486152</td>\n",
       "      <td>0.693147</td>\n",
       "      <td>1.098612</td>\n",
       "      <td>1.386294</td>\n",
       "      <td>1.098612</td>\n",
       "      <td>6</td>\n",
       "      <td>1.945910</td>\n",
       "      <td>...</td>\n",
       "      <td>0</td>\n",
       "      <td>0</td>\n",
       "      <td>0</td>\n",
       "      <td>0</td>\n",
       "      <td>0</td>\n",
       "      <td>0</td>\n",
       "      <td>0</td>\n",
       "      <td>0</td>\n",
       "      <td>0</td>\n",
       "      <td>0</td>\n",
       "    </tr>\n",
       "    <tr>\n",
       "      <th>1449</th>\n",
       "      <td>2.397895</td>\n",
       "      <td>1.609438</td>\n",
       "      <td>4.204693</td>\n",
       "      <td>9.109746</td>\n",
       "      <td>0.693147</td>\n",
       "      <td>1.098612</td>\n",
       "      <td>1.386294</td>\n",
       "      <td>1.098612</td>\n",
       "      <td>7</td>\n",
       "      <td>2.302585</td>\n",
       "      <td>...</td>\n",
       "      <td>0</td>\n",
       "      <td>0</td>\n",
       "      <td>0</td>\n",
       "      <td>0</td>\n",
       "      <td>0</td>\n",
       "      <td>0</td>\n",
       "      <td>0</td>\n",
       "      <td>0</td>\n",
       "      <td>0</td>\n",
       "      <td>0</td>\n",
       "    </tr>\n",
       "    <tr>\n",
       "      <th>1450</th>\n",
       "      <td>2.484907</td>\n",
       "      <td>1.609438</td>\n",
       "      <td>4.234107</td>\n",
       "      <td>9.181735</td>\n",
       "      <td>0.693147</td>\n",
       "      <td>1.098612</td>\n",
       "      <td>1.386294</td>\n",
       "      <td>1.098612</td>\n",
       "      <td>5</td>\n",
       "      <td>1.945910</td>\n",
       "      <td>...</td>\n",
       "      <td>0</td>\n",
       "      <td>0</td>\n",
       "      <td>0</td>\n",
       "      <td>0</td>\n",
       "      <td>0</td>\n",
       "      <td>0</td>\n",
       "      <td>0</td>\n",
       "      <td>0</td>\n",
       "      <td>0</td>\n",
       "      <td>0</td>\n",
       "    </tr>\n",
       "    <tr>\n",
       "      <th>1451</th>\n",
       "      <td>2.484907</td>\n",
       "      <td>1.609438</td>\n",
       "      <td>4.330733</td>\n",
       "      <td>9.204121</td>\n",
       "      <td>0.693147</td>\n",
       "      <td>1.098612</td>\n",
       "      <td>1.386294</td>\n",
       "      <td>1.098612</td>\n",
       "      <td>5</td>\n",
       "      <td>1.945910</td>\n",
       "      <td>...</td>\n",
       "      <td>0</td>\n",
       "      <td>0</td>\n",
       "      <td>0</td>\n",
       "      <td>0</td>\n",
       "      <td>0</td>\n",
       "      <td>0</td>\n",
       "      <td>0</td>\n",
       "      <td>0</td>\n",
       "      <td>0</td>\n",
       "      <td>0</td>\n",
       "    </tr>\n",
       "  </tbody>\n",
       "</table>\n",
       "<p>1452 rows × 283 columns</p>\n",
       "</div>"
      ],
      "text/plain": [
       "      MSSubClass  MSZoning  LotFrontage   LotArea    Street     Alley  \\\n",
       "0       2.708050  1.609438     4.189655  9.042040  0.693147  1.098612   \n",
       "1       2.484907  1.609438     4.394449  9.169623  0.693147  1.098612   \n",
       "2       2.708050  1.609438     4.234107  9.328212  0.693147  1.098612   \n",
       "3       2.397895  1.609438     4.110874  9.164401  0.693147  1.098612   \n",
       "4       2.708050  1.609438     4.442651  9.565284  0.693147  1.098612   \n",
       "...          ...       ...          ...       ...       ...       ...   \n",
       "1447    2.708050  1.609438     4.143135  8.976894  0.693147  1.098612   \n",
       "1448    2.484907  1.609438     4.454347  9.486152  0.693147  1.098612   \n",
       "1449    2.397895  1.609438     4.204693  9.109746  0.693147  1.098612   \n",
       "1450    2.484907  1.609438     4.234107  9.181735  0.693147  1.098612   \n",
       "1451    2.484907  1.609438     4.330733  9.204121  0.693147  1.098612   \n",
       "\n",
       "      LotShape  LandSlope  OverallQual  OverallCond  ...  years_model_51  \\\n",
       "0     1.386294   1.098612            7     1.791759  ...               0   \n",
       "1     1.386294   1.098612            6     2.197225  ...               0   \n",
       "2     1.098612   1.098612            7     1.791759  ...               0   \n",
       "3     1.098612   1.098612            7     1.791759  ...               0   \n",
       "4     1.098612   1.098612            8     1.791759  ...               0   \n",
       "...        ...        ...          ...          ...  ...             ...   \n",
       "1447  1.386294   1.098612            6     1.791759  ...               0   \n",
       "1448  1.386294   1.098612            6     1.945910  ...               0   \n",
       "1449  1.386294   1.098612            7     2.302585  ...               0   \n",
       "1450  1.386294   1.098612            5     1.945910  ...               0   \n",
       "1451  1.386294   1.098612            5     1.945910  ...               0   \n",
       "\n",
       "      years_model_52  years_model_53  years_model_54  years_model_55  \\\n",
       "0                  0               0               0               0   \n",
       "1                  0               0               0               0   \n",
       "2                  0               0               0               0   \n",
       "3                  0               0               0               0   \n",
       "4                  0               0               0               0   \n",
       "...              ...             ...             ...             ...   \n",
       "1447               0               0               0               0   \n",
       "1448               0               0               0               0   \n",
       "1449               0               0               0               0   \n",
       "1450               0               0               0               0   \n",
       "1451               0               0               0               0   \n",
       "\n",
       "      years_model_56  years_model_57  years_model_58  years_model_59  \\\n",
       "0                  0               0               0               0   \n",
       "1                  0               0               0               0   \n",
       "2                  0               0               0               0   \n",
       "3                  0               0               0               0   \n",
       "4                  0               0               0               0   \n",
       "...              ...             ...             ...             ...   \n",
       "1447               0               0               0               0   \n",
       "1448               0               0               0               0   \n",
       "1449               0               0               0               0   \n",
       "1450               0               0               0               0   \n",
       "1451               0               0               0               0   \n",
       "\n",
       "      years_model_60  \n",
       "0                  0  \n",
       "1                  0  \n",
       "2                  0  \n",
       "3                  0  \n",
       "4                  0  \n",
       "...              ...  \n",
       "1447               0  \n",
       "1448               0  \n",
       "1449               0  \n",
       "1450               0  \n",
       "1451               0  \n",
       "\n",
       "[1452 rows x 283 columns]"
      ]
     },
     "execution_count": 16,
     "metadata": {},
     "output_type": "execute_result"
    }
   ],
   "source": [
    "X = df.drop(\"SalePrice\", axis=1)\n",
    "# X = df[important_index]\n",
    "\n",
    "# y = np.log1p(df[\"SalePrice\"])\n",
    "y = df[\"SalePrice\"]\n",
    "\n",
    "X_train, X_test, y_train, y_test = train_test_split(X, y, test_size=0.2, random_state=42)\n",
    "\n",
    "\n",
    "\n",
    "\n",
    "X_train=X_train[['N_coded_mean', 'bath_score', 'GarageCars', 'KitchenQual', '1stFlrSF', \n",
    " 'overall_score', 'room_size', 'heat_fireplace_fQc', 'Foundation_PConc', \n",
    " 'MSSubClass', 'BsmtQual', 'YrGroup', 'MSZoning', 'LotArea', 'BsmtExposure', \n",
    " 'CentralAir', 'BsmtFinType1', 'HalfBath', 'MasVnrType_Stone', 'SaleType']]\n",
    "\n",
    "X_test=X_test[['N_coded_mean', 'bath_score', 'GarageCars', 'KitchenQual', '1stFlrSF', \n",
    " 'overall_score', 'room_size', 'heat_fireplace_fQc', 'Foundation_PConc', \n",
    " 'MSSubClass', 'BsmtQual', 'YrGroup', 'MSZoning', 'LotArea', 'BsmtExposure', \n",
    " 'CentralAir', 'BsmtFinType1', 'HalfBath', 'MasVnrType_Stone', 'SaleType']]\n",
    "\n",
    "cols=['N_coded_mean', 'bath_score', 'GarageCars', 'KitchenQual', '1stFlrSF', \n",
    " 'overall_score', 'room_size', 'heat_fireplace_fQc', 'Foundation_PConc', \n",
    " 'MSSubClass', 'BsmtQual', 'YrGroup', 'MSZoning', 'LotArea', 'BsmtExposure', \n",
    " 'CentralAir', 'BsmtFinType1', 'HalfBath', 'MasVnrType_Stone', 'SaleType']\n",
    "\n",
    "\n",
    "ss = StandardScaler()\n",
    "scaled_X_train = ss.fit_transform(X_train)\n",
    "scaled_X_test = ss.transform(X_test)\n",
    "X"
   ]
  },
  {
   "cell_type": "code",
   "execution_count": 17,
   "metadata": {},
   "outputs": [
    {
     "data": {
      "text/html": [
       "<div>\n",
       "<style scoped>\n",
       "    .dataframe tbody tr th:only-of-type {\n",
       "        vertical-align: middle;\n",
       "    }\n",
       "\n",
       "    .dataframe tbody tr th {\n",
       "        vertical-align: top;\n",
       "    }\n",
       "\n",
       "    .dataframe thead th {\n",
       "        text-align: right;\n",
       "    }\n",
       "</style>\n",
       "<table border=\"1\" class=\"dataframe\">\n",
       "  <thead>\n",
       "    <tr style=\"text-align: right;\">\n",
       "      <th></th>\n",
       "      <th>N_coded_mean</th>\n",
       "      <th>bath_score</th>\n",
       "      <th>GarageCars</th>\n",
       "      <th>KitchenQual</th>\n",
       "      <th>1stFlrSF</th>\n",
       "      <th>overall_score</th>\n",
       "      <th>room_size</th>\n",
       "      <th>heat_fireplace_fQc</th>\n",
       "      <th>Foundation_PConc</th>\n",
       "      <th>MSSubClass</th>\n",
       "      <th>BsmtQual</th>\n",
       "      <th>YrGroup</th>\n",
       "      <th>MSZoning</th>\n",
       "      <th>LotArea</th>\n",
       "      <th>BsmtExposure</th>\n",
       "      <th>CentralAir</th>\n",
       "      <th>BsmtFinType1</th>\n",
       "      <th>HalfBath</th>\n",
       "      <th>MasVnrType_Stone</th>\n",
       "      <th>SaleType</th>\n",
       "    </tr>\n",
       "  </thead>\n",
       "  <tbody>\n",
       "    <tr>\n",
       "      <th>1262</th>\n",
       "      <td>11.881616</td>\n",
       "      <td>3.0</td>\n",
       "      <td>1</td>\n",
       "      <td>2</td>\n",
       "      <td>6.774224</td>\n",
       "      <td>25</td>\n",
       "      <td>5.387766</td>\n",
       "      <td>0.000000</td>\n",
       "      <td>0</td>\n",
       "      <td>1.945910</td>\n",
       "      <td>1.386294</td>\n",
       "      <td>1</td>\n",
       "      <td>1.609438</td>\n",
       "      <td>9.336532</td>\n",
       "      <td>0.693147</td>\n",
       "      <td>0.693147</td>\n",
       "      <td>4</td>\n",
       "      <td>0.693147</td>\n",
       "      <td>0</td>\n",
       "      <td>1.609438</td>\n",
       "    </tr>\n",
       "    <tr>\n",
       "      <th>979</th>\n",
       "      <td>11.768511</td>\n",
       "      <td>2.0</td>\n",
       "      <td>1</td>\n",
       "      <td>3</td>\n",
       "      <td>6.909753</td>\n",
       "      <td>48</td>\n",
       "      <td>5.793014</td>\n",
       "      <td>0.000000</td>\n",
       "      <td>0</td>\n",
       "      <td>1.945910</td>\n",
       "      <td>1.386294</td>\n",
       "      <td>2</td>\n",
       "      <td>1.098612</td>\n",
       "      <td>8.577535</td>\n",
       "      <td>0.693147</td>\n",
       "      <td>0.693147</td>\n",
       "      <td>1</td>\n",
       "      <td>0.000000</td>\n",
       "      <td>0</td>\n",
       "      <td>1.609438</td>\n",
       "    </tr>\n",
       "    <tr>\n",
       "      <th>792</th>\n",
       "      <td>11.881616</td>\n",
       "      <td>2.0</td>\n",
       "      <td>1</td>\n",
       "      <td>2</td>\n",
       "      <td>6.651572</td>\n",
       "      <td>25</td>\n",
       "      <td>5.269146</td>\n",
       "      <td>0.000000</td>\n",
       "      <td>0</td>\n",
       "      <td>2.484907</td>\n",
       "      <td>1.386294</td>\n",
       "      <td>1</td>\n",
       "      <td>1.609438</td>\n",
       "      <td>8.946114</td>\n",
       "      <td>0.693147</td>\n",
       "      <td>0.693147</td>\n",
       "      <td>4</td>\n",
       "      <td>0.000000</td>\n",
       "      <td>0</td>\n",
       "      <td>1.609438</td>\n",
       "    </tr>\n",
       "    <tr>\n",
       "      <th>1433</th>\n",
       "      <td>12.194968</td>\n",
       "      <td>2.5</td>\n",
       "      <td>2</td>\n",
       "      <td>3</td>\n",
       "      <td>6.744059</td>\n",
       "      <td>30</td>\n",
       "      <td>5.647800</td>\n",
       "      <td>2.564949</td>\n",
       "      <td>1</td>\n",
       "      <td>2.639057</td>\n",
       "      <td>1.609438</td>\n",
       "      <td>0</td>\n",
       "      <td>1.098612</td>\n",
       "      <td>8.395477</td>\n",
       "      <td>1.386294</td>\n",
       "      <td>0.693147</td>\n",
       "      <td>6</td>\n",
       "      <td>0.000000</td>\n",
       "      <td>0</td>\n",
       "      <td>1.609438</td>\n",
       "    </tr>\n",
       "    <tr>\n",
       "      <th>374</th>\n",
       "      <td>12.194968</td>\n",
       "      <td>2.0</td>\n",
       "      <td>2</td>\n",
       "      <td>2</td>\n",
       "      <td>6.818924</td>\n",
       "      <td>25</td>\n",
       "      <td>5.213848</td>\n",
       "      <td>0.000000</td>\n",
       "      <td>1</td>\n",
       "      <td>2.079442</td>\n",
       "      <td>1.609438</td>\n",
       "      <td>0</td>\n",
       "      <td>1.609438</td>\n",
       "      <td>9.087834</td>\n",
       "      <td>1.386294</td>\n",
       "      <td>0.693147</td>\n",
       "      <td>6</td>\n",
       "      <td>0.000000</td>\n",
       "      <td>0</td>\n",
       "      <td>1.609438</td>\n",
       "    </tr>\n",
       "    <tr>\n",
       "      <th>...</th>\n",
       "      <td>...</td>\n",
       "      <td>...</td>\n",
       "      <td>...</td>\n",
       "      <td>...</td>\n",
       "      <td>...</td>\n",
       "      <td>...</td>\n",
       "      <td>...</td>\n",
       "      <td>...</td>\n",
       "      <td>...</td>\n",
       "      <td>...</td>\n",
       "      <td>...</td>\n",
       "      <td>...</td>\n",
       "      <td>...</td>\n",
       "      <td>...</td>\n",
       "      <td>...</td>\n",
       "      <td>...</td>\n",
       "      <td>...</td>\n",
       "      <td>...</td>\n",
       "      <td>...</td>\n",
       "      <td>...</td>\n",
       "    </tr>\n",
       "    <tr>\n",
       "      <th>1095</th>\n",
       "      <td>11.881616</td>\n",
       "      <td>2.0</td>\n",
       "      <td>1</td>\n",
       "      <td>2</td>\n",
       "      <td>7.034388</td>\n",
       "      <td>35</td>\n",
       "      <td>5.247024</td>\n",
       "      <td>0.000000</td>\n",
       "      <td>0</td>\n",
       "      <td>2.484907</td>\n",
       "      <td>1.386294</td>\n",
       "      <td>1</td>\n",
       "      <td>1.609438</td>\n",
       "      <td>8.853808</td>\n",
       "      <td>0.693147</td>\n",
       "      <td>0.693147</td>\n",
       "      <td>3</td>\n",
       "      <td>0.000000</td>\n",
       "      <td>0</td>\n",
       "      <td>1.609438</td>\n",
       "    </tr>\n",
       "    <tr>\n",
       "      <th>1130</th>\n",
       "      <td>11.836051</td>\n",
       "      <td>2.0</td>\n",
       "      <td>0</td>\n",
       "      <td>2</td>\n",
       "      <td>6.660575</td>\n",
       "      <td>40</td>\n",
       "      <td>5.141664</td>\n",
       "      <td>0.000000</td>\n",
       "      <td>0</td>\n",
       "      <td>1.945910</td>\n",
       "      <td>1.386294</td>\n",
       "      <td>2</td>\n",
       "      <td>1.609438</td>\n",
       "      <td>8.755107</td>\n",
       "      <td>0.693147</td>\n",
       "      <td>0.000000</td>\n",
       "      <td>1</td>\n",
       "      <td>0.000000</td>\n",
       "      <td>0</td>\n",
       "      <td>1.609438</td>\n",
       "    </tr>\n",
       "    <tr>\n",
       "      <th>1294</th>\n",
       "      <td>12.685976</td>\n",
       "      <td>5.5</td>\n",
       "      <td>3</td>\n",
       "      <td>3</td>\n",
       "      <td>7.093405</td>\n",
       "      <td>40</td>\n",
       "      <td>5.758113</td>\n",
       "      <td>2.564949</td>\n",
       "      <td>1</td>\n",
       "      <td>2.708050</td>\n",
       "      <td>1.609438</td>\n",
       "      <td>0</td>\n",
       "      <td>1.609438</td>\n",
       "      <td>9.222368</td>\n",
       "      <td>0.693147</td>\n",
       "      <td>0.693147</td>\n",
       "      <td>6</td>\n",
       "      <td>0.693147</td>\n",
       "      <td>0</td>\n",
       "      <td>1.609438</td>\n",
       "    </tr>\n",
       "    <tr>\n",
       "      <th>860</th>\n",
       "      <td>11.881616</td>\n",
       "      <td>2.5</td>\n",
       "      <td>2</td>\n",
       "      <td>2</td>\n",
       "      <td>6.910751</td>\n",
       "      <td>30</td>\n",
       "      <td>5.305293</td>\n",
       "      <td>0.000000</td>\n",
       "      <td>0</td>\n",
       "      <td>2.484907</td>\n",
       "      <td>1.386294</td>\n",
       "      <td>3</td>\n",
       "      <td>1.609438</td>\n",
       "      <td>9.076923</td>\n",
       "      <td>0.693147</td>\n",
       "      <td>0.693147</td>\n",
       "      <td>4</td>\n",
       "      <td>0.000000</td>\n",
       "      <td>0</td>\n",
       "      <td>1.609438</td>\n",
       "    </tr>\n",
       "    <tr>\n",
       "      <th>1126</th>\n",
       "      <td>12.137237</td>\n",
       "      <td>5.0</td>\n",
       "      <td>2</td>\n",
       "      <td>3</td>\n",
       "      <td>7.041412</td>\n",
       "      <td>40</td>\n",
       "      <td>5.535364</td>\n",
       "      <td>2.564949</td>\n",
       "      <td>1</td>\n",
       "      <td>2.708050</td>\n",
       "      <td>1.609438</td>\n",
       "      <td>0</td>\n",
       "      <td>1.609438</td>\n",
       "      <td>9.193092</td>\n",
       "      <td>0.693147</td>\n",
       "      <td>0.693147</td>\n",
       "      <td>6</td>\n",
       "      <td>0.693147</td>\n",
       "      <td>0</td>\n",
       "      <td>1.609438</td>\n",
       "    </tr>\n",
       "  </tbody>\n",
       "</table>\n",
       "<p>1161 rows × 20 columns</p>\n",
       "</div>"
      ],
      "text/plain": [
       "      N_coded_mean  bath_score  GarageCars  KitchenQual  1stFlrSF  \\\n",
       "1262     11.881616         3.0           1            2  6.774224   \n",
       "979      11.768511         2.0           1            3  6.909753   \n",
       "792      11.881616         2.0           1            2  6.651572   \n",
       "1433     12.194968         2.5           2            3  6.744059   \n",
       "374      12.194968         2.0           2            2  6.818924   \n",
       "...            ...         ...         ...          ...       ...   \n",
       "1095     11.881616         2.0           1            2  7.034388   \n",
       "1130     11.836051         2.0           0            2  6.660575   \n",
       "1294     12.685976         5.5           3            3  7.093405   \n",
       "860      11.881616         2.5           2            2  6.910751   \n",
       "1126     12.137237         5.0           2            3  7.041412   \n",
       "\n",
       "      overall_score  room_size  heat_fireplace_fQc  Foundation_PConc  \\\n",
       "1262             25   5.387766            0.000000                 0   \n",
       "979              48   5.793014            0.000000                 0   \n",
       "792              25   5.269146            0.000000                 0   \n",
       "1433             30   5.647800            2.564949                 1   \n",
       "374              25   5.213848            0.000000                 1   \n",
       "...             ...        ...                 ...               ...   \n",
       "1095             35   5.247024            0.000000                 0   \n",
       "1130             40   5.141664            0.000000                 0   \n",
       "1294             40   5.758113            2.564949                 1   \n",
       "860              30   5.305293            0.000000                 0   \n",
       "1126             40   5.535364            2.564949                 1   \n",
       "\n",
       "      MSSubClass  BsmtQual  YrGroup  MSZoning   LotArea  BsmtExposure  \\\n",
       "1262    1.945910  1.386294        1  1.609438  9.336532      0.693147   \n",
       "979     1.945910  1.386294        2  1.098612  8.577535      0.693147   \n",
       "792     2.484907  1.386294        1  1.609438  8.946114      0.693147   \n",
       "1433    2.639057  1.609438        0  1.098612  8.395477      1.386294   \n",
       "374     2.079442  1.609438        0  1.609438  9.087834      1.386294   \n",
       "...          ...       ...      ...       ...       ...           ...   \n",
       "1095    2.484907  1.386294        1  1.609438  8.853808      0.693147   \n",
       "1130    1.945910  1.386294        2  1.609438  8.755107      0.693147   \n",
       "1294    2.708050  1.609438        0  1.609438  9.222368      0.693147   \n",
       "860     2.484907  1.386294        3  1.609438  9.076923      0.693147   \n",
       "1126    2.708050  1.609438        0  1.609438  9.193092      0.693147   \n",
       "\n",
       "      CentralAir  BsmtFinType1  HalfBath  MasVnrType_Stone  SaleType  \n",
       "1262    0.693147             4  0.693147                 0  1.609438  \n",
       "979     0.693147             1  0.000000                 0  1.609438  \n",
       "792     0.693147             4  0.000000                 0  1.609438  \n",
       "1433    0.693147             6  0.000000                 0  1.609438  \n",
       "374     0.693147             6  0.000000                 0  1.609438  \n",
       "...          ...           ...       ...               ...       ...  \n",
       "1095    0.693147             3  0.000000                 0  1.609438  \n",
       "1130    0.000000             1  0.000000                 0  1.609438  \n",
       "1294    0.693147             6  0.693147                 0  1.609438  \n",
       "860     0.693147             4  0.000000                 0  1.609438  \n",
       "1126    0.693147             6  0.693147                 0  1.609438  \n",
       "\n",
       "[1161 rows x 20 columns]"
      ]
     },
     "execution_count": 17,
     "metadata": {},
     "output_type": "execute_result"
    }
   ],
   "source": [
    "X_train"
   ]
  },
  {
   "cell_type": "code",
   "execution_count": 18,
   "metadata": {
    "scrolled": false
   },
   "outputs": [
    {
     "data": {
      "image/png": "[encoded data removed]",
      "text/plain": [
       "<Figure size 1080x2880 with 1 Axes>"
      ]
     },
     "metadata": {
      "needs_background": "light"
     },
     "output_type": "display_data"
    }
   ],
   "source": [
    "df.shape\n",
    "lasso=Lasso(alpha=0.001)\n",
    "lasso.fit(scaled_X_train,y_train)\n",
    "\n",
    "\n",
    "FI_lasso = pd.DataFrame({\"Feature Importance\":lasso.coef_}, index=cols)\n",
    "FI_lasso.sort_values(\"Feature Importance\",ascending=False)\n",
    "\n",
    "FI_lasso[FI_lasso[\"Feature Importance\"]!=0].sort_values(\"Feature Importance\").plot(kind=\"barh\",figsize=(15,40))\n",
    "plt.xticks(rotation=90)\n",
    "plt.show()"
   ]
  },
  {
   "cell_type": "code",
   "execution_count": null,
   "metadata": {},
   "outputs": [],
   "source": []
  },
  {
   "cell_type": "code",
   "execution_count": 20,
   "metadata": {},
   "outputs": [],
   "source": [
    "from sklearn.decomposition import PCA, KernelPCA\n",
    "pca = PCA(n_components=20)\n",
    "\n",
    "scaled_X_train=pca.fit_transform(scaled_X_train)\n",
    "scaled_X_test=pca.transform(scaled_X_test)"
   ]
  },
  {
   "cell_type": "code",
   "execution_count": 21,
   "metadata": {},
   "outputs": [
    {
     "data": {
      "text/plain": [
       "array([[ 1.75059978e+00,  2.29173671e-02,  8.64580906e-01, ...,\n",
       "         2.69463904e-02,  2.14449808e-02, -5.99466035e-01],\n",
       "       [ 1.75696164e+00, -4.23065811e-01, -2.09533515e-01, ...,\n",
       "        -4.05483718e-01,  4.19545611e-02,  3.09626854e-01],\n",
       "       [ 2.41538961e+00, -2.33062246e-01, -2.84669351e-01, ...,\n",
       "         3.52532283e-03, -5.72747507e-01, -1.06971958e-01],\n",
       "       ...,\n",
       "       [-3.81833406e+00, -3.03293693e-01,  1.44905223e+00, ...,\n",
       "        -8.23891940e-01, -1.09836565e-01, -9.66772704e-02],\n",
       "       [ 1.89610031e+00,  9.63294686e-01, -2.88573330e-01, ...,\n",
       "         3.24103061e-03, -3.32948600e-02,  3.87365059e-01],\n",
       "       [-2.33057937e+00, -4.39531832e-01,  1.08412996e+00, ...,\n",
       "         4.72790928e-01,  4.28087109e-01, -2.27810285e-02]])"
      ]
     },
     "execution_count": 21,
     "metadata": {},
     "output_type": "execute_result"
    }
   ],
   "source": [
    "scaled_X_train"
   ]
  },
  {
   "cell_type": "code",
   "execution_count": 22,
   "metadata": {},
   "outputs": [
    {
     "name": "stdout",
     "output_type": "stream",
     "text": [
      "Multicollinear Features\n"
     ]
    },
    {
     "data": {
      "text/html": [
       "<div>\n",
       "<style scoped>\n",
       "    .dataframe tbody tr th:only-of-type {\n",
       "        vertical-align: middle;\n",
       "    }\n",
       "\n",
       "    .dataframe tbody tr th {\n",
       "        vertical-align: top;\n",
       "    }\n",
       "\n",
       "    .dataframe thead th {\n",
       "        text-align: right;\n",
       "    }\n",
       "</style>\n",
       "<table border=\"1\" class=\"dataframe\">\n",
       "  <thead>\n",
       "    <tr style=\"text-align: right;\">\n",
       "      <th></th>\n",
       "      <th>Correlations</th>\n",
       "      <th>Features</th>\n",
       "      <th>idx</th>\n",
       "    </tr>\n",
       "  </thead>\n",
       "  <tbody>\n",
       "    <tr>\n",
       "      <th>0</th>\n",
       "      <td>1.000000</td>\n",
       "      <td>pool_score</td>\n",
       "      <td>PoolQC</td>\n",
       "    </tr>\n",
       "    <tr>\n",
       "      <th>1</th>\n",
       "      <td>1.000000</td>\n",
       "      <td>Exterior2nd_CBlock</td>\n",
       "      <td>Exterior1st_CBlock</td>\n",
       "    </tr>\n",
       "    <tr>\n",
       "      <th>2</th>\n",
       "      <td>1.000000</td>\n",
       "      <td>Exterior1st_CBlock</td>\n",
       "      <td>Exterior2nd_CBlock</td>\n",
       "    </tr>\n",
       "    <tr>\n",
       "      <th>3</th>\n",
       "      <td>1.000000</td>\n",
       "      <td>PoolQC</td>\n",
       "      <td>pool_score</td>\n",
       "    </tr>\n",
       "    <tr>\n",
       "      <th>4</th>\n",
       "      <td>0.999796</td>\n",
       "      <td>pool</td>\n",
       "      <td>PoolArea</td>\n",
       "    </tr>\n",
       "    <tr>\n",
       "      <th>5</th>\n",
       "      <td>0.998778</td>\n",
       "      <td>N_coded_mean</td>\n",
       "      <td>Neighborhood_encoded</td>\n",
       "    </tr>\n",
       "    <tr>\n",
       "      <th>6</th>\n",
       "      <td>0.984033</td>\n",
       "      <td>GarageQual</td>\n",
       "      <td>GarageCond</td>\n",
       "    </tr>\n",
       "    <tr>\n",
       "      <th>7</th>\n",
       "      <td>0.977438</td>\n",
       "      <td>Exterior2nd_VinylSd</td>\n",
       "      <td>Exterior1st_VinylSd</td>\n",
       "    </tr>\n",
       "    <tr>\n",
       "      <th>8</th>\n",
       "      <td>0.973750</td>\n",
       "      <td>Exterior1st_CemntBd</td>\n",
       "      <td>Exterior2nd_CmentBd</td>\n",
       "    </tr>\n",
       "    <tr>\n",
       "      <th>9</th>\n",
       "      <td>0.973039</td>\n",
       "      <td>Exterior1st_MetalSd</td>\n",
       "      <td>Exterior2nd_MetalSd</td>\n",
       "    </tr>\n",
       "    <tr>\n",
       "      <th>10</th>\n",
       "      <td>0.971955</td>\n",
       "      <td>MiscFeature_Does Not Have</td>\n",
       "      <td>MiscVal</td>\n",
       "    </tr>\n",
       "    <tr>\n",
       "      <th>11</th>\n",
       "      <td>0.970608</td>\n",
       "      <td>heat_fireplace_fQc</td>\n",
       "      <td>FireplaceQu</td>\n",
       "    </tr>\n",
       "    <tr>\n",
       "      <th>12</th>\n",
       "      <td>0.961663</td>\n",
       "      <td>heat_fireplace_fQc</td>\n",
       "      <td>Fireplaces</td>\n",
       "    </tr>\n",
       "    <tr>\n",
       "      <th>13</th>\n",
       "      <td>0.961493</td>\n",
       "      <td>MasVnrArea</td>\n",
       "      <td>MasVnrType_None</td>\n",
       "    </tr>\n",
       "    <tr>\n",
       "      <th>14</th>\n",
       "      <td>0.952994</td>\n",
       "      <td>PoolQC</td>\n",
       "      <td>pool</td>\n",
       "    </tr>\n",
       "    <tr>\n",
       "      <th>15</th>\n",
       "      <td>0.952994</td>\n",
       "      <td>pool_score</td>\n",
       "      <td>pool</td>\n",
       "    </tr>\n",
       "    <tr>\n",
       "      <th>16</th>\n",
       "      <td>0.952245</td>\n",
       "      <td>PoolQC</td>\n",
       "      <td>PoolArea</td>\n",
       "    </tr>\n",
       "    <tr>\n",
       "      <th>17</th>\n",
       "      <td>0.952245</td>\n",
       "      <td>pool_score</td>\n",
       "      <td>PoolArea</td>\n",
       "    </tr>\n",
       "    <tr>\n",
       "      <th>18</th>\n",
       "      <td>0.950880</td>\n",
       "      <td>MiscFeature_Does Not Have</td>\n",
       "      <td>MiscFeature_Shed</td>\n",
       "    </tr>\n",
       "    <tr>\n",
       "      <th>19</th>\n",
       "      <td>0.936682</td>\n",
       "      <td>RoofStyle_Hip</td>\n",
       "      <td>RoofStyle_Gable</td>\n",
       "    </tr>\n",
       "    <tr>\n",
       "      <th>20</th>\n",
       "      <td>0.921876</td>\n",
       "      <td>garage_score</td>\n",
       "      <td>GarageQual</td>\n",
       "    </tr>\n",
       "    <tr>\n",
       "      <th>21</th>\n",
       "      <td>0.921732</td>\n",
       "      <td>FireplaceQu</td>\n",
       "      <td>Fireplaces</td>\n",
       "    </tr>\n",
       "    <tr>\n",
       "      <th>22</th>\n",
       "      <td>0.919676</td>\n",
       "      <td>garage_score</td>\n",
       "      <td>GarageYrBlt</td>\n",
       "    </tr>\n",
       "    <tr>\n",
       "      <th>23</th>\n",
       "      <td>0.918981</td>\n",
       "      <td>garage_score</td>\n",
       "      <td>GarageCond</td>\n",
       "    </tr>\n",
       "    <tr>\n",
       "      <th>24</th>\n",
       "      <td>0.915289</td>\n",
       "      <td>MiscFeature_Shed</td>\n",
       "      <td>MiscVal</td>\n",
       "    </tr>\n",
       "    <tr>\n",
       "      <th>25</th>\n",
       "      <td>0.913303</td>\n",
       "      <td>TotalBsmtSF</td>\n",
       "      <td>BsmtCond</td>\n",
       "    </tr>\n",
       "    <tr>\n",
       "      <th>26</th>\n",
       "      <td>0.907142</td>\n",
       "      <td>GarageType</td>\n",
       "      <td>garage_score</td>\n",
       "    </tr>\n",
       "    <tr>\n",
       "      <th>27</th>\n",
       "      <td>0.900241</td>\n",
       "      <td>bath_score</td>\n",
       "      <td>FullBath</td>\n",
       "    </tr>\n",
       "    <tr>\n",
       "      <th>28</th>\n",
       "      <td>0.896515</td>\n",
       "      <td>GarageYrBlt</td>\n",
       "      <td>GarageQual</td>\n",
       "    </tr>\n",
       "    <tr>\n",
       "      <th>29</th>\n",
       "      <td>0.889924</td>\n",
       "      <td>GarageYrBlt</td>\n",
       "      <td>GarageCond</td>\n",
       "    </tr>\n",
       "    <tr>\n",
       "      <th>30</th>\n",
       "      <td>0.886814</td>\n",
       "      <td>GarageCars</td>\n",
       "      <td>GarageArea</td>\n",
       "    </tr>\n",
       "    <tr>\n",
       "      <th>31</th>\n",
       "      <td>0.882711</td>\n",
       "      <td>Exterior1st_HdBoard</td>\n",
       "      <td>Exterior2nd_HdBoard</td>\n",
       "    </tr>\n",
       "    <tr>\n",
       "      <th>32</th>\n",
       "      <td>0.876671</td>\n",
       "      <td>BsmtQual</td>\n",
       "      <td>TotalBsmtSF</td>\n",
       "    </tr>\n",
       "    <tr>\n",
       "      <th>33</th>\n",
       "      <td>0.861095</td>\n",
       "      <td>2ndFlrSF</td>\n",
       "      <td>HouseStyle_1Story</td>\n",
       "    </tr>\n",
       "    <tr>\n",
       "      <th>34</th>\n",
       "      <td>0.860622</td>\n",
       "      <td>Exterior1st_Wd Sdng</td>\n",
       "      <td>Exterior2nd_Wd Sdng</td>\n",
       "    </tr>\n",
       "    <tr>\n",
       "      <th>35</th>\n",
       "      <td>0.854936</td>\n",
       "      <td>BsmtFinType2</td>\n",
       "      <td>BsmtFinSF2</td>\n",
       "    </tr>\n",
       "    <tr>\n",
       "      <th>36</th>\n",
       "      <td>0.852727</td>\n",
       "      <td>BsmtFinType1</td>\n",
       "      <td>BsmtFinSF1</td>\n",
       "    </tr>\n",
       "    <tr>\n",
       "      <th>37</th>\n",
       "      <td>0.847905</td>\n",
       "      <td>Exterior1st_AsbShng</td>\n",
       "      <td>Exterior2nd_AsbShng</td>\n",
       "    </tr>\n",
       "    <tr>\n",
       "      <th>38</th>\n",
       "      <td>0.845841</td>\n",
       "      <td>BsmtQual</td>\n",
       "      <td>BsmtCond</td>\n",
       "    </tr>\n",
       "    <tr>\n",
       "      <th>39</th>\n",
       "      <td>0.844406</td>\n",
       "      <td>AggSF</td>\n",
       "      <td>GrLivArea</td>\n",
       "    </tr>\n",
       "    <tr>\n",
       "      <th>40</th>\n",
       "      <td>0.843235</td>\n",
       "      <td>SalePrice</td>\n",
       "      <td>AggSF</td>\n",
       "    </tr>\n",
       "    <tr>\n",
       "      <th>41</th>\n",
       "      <td>0.838368</td>\n",
       "      <td>KitchenQual</td>\n",
       "      <td>Kitchen_score</td>\n",
       "    </tr>\n",
       "    <tr>\n",
       "      <th>42</th>\n",
       "      <td>0.827626</td>\n",
       "      <td>GrLivArea</td>\n",
       "      <td>TotRmsAbvGrd</td>\n",
       "    </tr>\n",
       "    <tr>\n",
       "      <th>43</th>\n",
       "      <td>0.821795</td>\n",
       "      <td>ExterQual</td>\n",
       "      <td>exter_score</td>\n",
       "    </tr>\n",
       "    <tr>\n",
       "      <th>44</th>\n",
       "      <td>0.821050</td>\n",
       "      <td>SalePrice</td>\n",
       "      <td>OverallQual</td>\n",
       "    </tr>\n",
       "    <tr>\n",
       "      <th>45</th>\n",
       "      <td>0.802706</td>\n",
       "      <td>RoofStyle_Flat</td>\n",
       "      <td>RoofMatl_Tar&amp;Grv</td>\n",
       "    </tr>\n",
       "  </tbody>\n",
       "</table>\n",
       "</div>"
      ],
      "text/plain": [
       "    Correlations                   Features                   idx\n",
       "0       1.000000                 pool_score                PoolQC\n",
       "1       1.000000         Exterior2nd_CBlock    Exterior1st_CBlock\n",
       "2       1.000000         Exterior1st_CBlock    Exterior2nd_CBlock\n",
       "3       1.000000                     PoolQC            pool_score\n",
       "4       0.999796                       pool              PoolArea\n",
       "5       0.998778               N_coded_mean  Neighborhood_encoded\n",
       "6       0.984033                 GarageQual            GarageCond\n",
       "7       0.977438        Exterior2nd_VinylSd   Exterior1st_VinylSd\n",
       "8       0.973750        Exterior1st_CemntBd   Exterior2nd_CmentBd\n",
       "9       0.973039        Exterior1st_MetalSd   Exterior2nd_MetalSd\n",
       "10      0.971955  MiscFeature_Does Not Have               MiscVal\n",
       "11      0.970608         heat_fireplace_fQc           FireplaceQu\n",
       "12      0.961663         heat_fireplace_fQc            Fireplaces\n",
       "13      0.961493                 MasVnrArea       MasVnrType_None\n",
       "14      0.952994                     PoolQC                  pool\n",
       "15      0.952994                 pool_score                  pool\n",
       "16      0.952245                     PoolQC              PoolArea\n",
       "17      0.952245                 pool_score              PoolArea\n",
       "18      0.950880  MiscFeature_Does Not Have      MiscFeature_Shed\n",
       "19      0.936682              RoofStyle_Hip       RoofStyle_Gable\n",
       "20      0.921876               garage_score            GarageQual\n",
       "21      0.921732                FireplaceQu            Fireplaces\n",
       "22      0.919676               garage_score           GarageYrBlt\n",
       "23      0.918981               garage_score            GarageCond\n",
       "24      0.915289           MiscFeature_Shed               MiscVal\n",
       "25      0.913303                TotalBsmtSF              BsmtCond\n",
       "26      0.907142                 GarageType          garage_score\n",
       "27      0.900241                 bath_score              FullBath\n",
       "28      0.896515                GarageYrBlt            GarageQual\n",
       "29      0.889924                GarageYrBlt            GarageCond\n",
       "30      0.886814                 GarageCars            GarageArea\n",
       "31      0.882711        Exterior1st_HdBoard   Exterior2nd_HdBoard\n",
       "32      0.876671                   BsmtQual           TotalBsmtSF\n",
       "33      0.861095                   2ndFlrSF     HouseStyle_1Story\n",
       "34      0.860622        Exterior1st_Wd Sdng   Exterior2nd_Wd Sdng\n",
       "35      0.854936               BsmtFinType2            BsmtFinSF2\n",
       "36      0.852727               BsmtFinType1            BsmtFinSF1\n",
       "37      0.847905        Exterior1st_AsbShng   Exterior2nd_AsbShng\n",
       "38      0.845841                   BsmtQual              BsmtCond\n",
       "39      0.844406                      AggSF             GrLivArea\n",
       "40      0.843235                  SalePrice                 AggSF\n",
       "41      0.838368                KitchenQual         Kitchen_score\n",
       "42      0.827626                  GrLivArea          TotRmsAbvGrd\n",
       "43      0.821795                  ExterQual           exter_score\n",
       "44      0.821050                  SalePrice           OverallQual\n",
       "45      0.802706             RoofStyle_Flat      RoofMatl_Tar&Grv"
      ]
     },
     "metadata": {},
     "output_type": "display_data"
    },
    {
     "name": "stdout",
     "output_type": "stream",
     "text": [
      "Correlations with Price\n"
     ]
    },
    {
     "data": {
      "text/html": [
       "<div>\n",
       "<style scoped>\n",
       "    .dataframe tbody tr th:only-of-type {\n",
       "        vertical-align: middle;\n",
       "    }\n",
       "\n",
       "    .dataframe tbody tr th {\n",
       "        vertical-align: top;\n",
       "    }\n",
       "\n",
       "    .dataframe thead th {\n",
       "        text-align: right;\n",
       "    }\n",
       "</style>\n",
       "<table border=\"1\" class=\"dataframe\">\n",
       "  <thead>\n",
       "    <tr style=\"text-align: right;\">\n",
       "      <th></th>\n",
       "      <th>Correlations</th>\n",
       "      <th>Features</th>\n",
       "    </tr>\n",
       "  </thead>\n",
       "  <tbody>\n",
       "    <tr>\n",
       "      <th>2</th>\n",
       "      <td>0.756236</td>\n",
       "      <td>N_coded_mean</td>\n",
       "    </tr>\n",
       "    <tr>\n",
       "      <th>5</th>\n",
       "      <td>0.687285</td>\n",
       "      <td>bath_score</td>\n",
       "    </tr>\n",
       "    <tr>\n",
       "      <th>6</th>\n",
       "      <td>0.681593</td>\n",
       "      <td>GarageCars</td>\n",
       "    </tr>\n",
       "    <tr>\n",
       "      <th>7</th>\n",
       "      <td>0.680300</td>\n",
       "      <td>ExterQual</td>\n",
       "    </tr>\n",
       "    <tr>\n",
       "      <th>8</th>\n",
       "      <td>0.668678</td>\n",
       "      <td>KitchenQual</td>\n",
       "    </tr>\n",
       "    <tr>\n",
       "      <th>10</th>\n",
       "      <td>0.613493</td>\n",
       "      <td>1stFlrSF</td>\n",
       "    </tr>\n",
       "    <tr>\n",
       "      <th>11</th>\n",
       "      <td>0.606306</td>\n",
       "      <td>overall_score</td>\n",
       "    </tr>\n",
       "    <tr>\n",
       "      <th>12</th>\n",
       "      <td>0.604789</td>\n",
       "      <td>GarageFinish</td>\n",
       "    </tr>\n",
       "    <tr>\n",
       "      <th>13</th>\n",
       "      <td>0.600012</td>\n",
       "      <td>YearBuilt</td>\n",
       "    </tr>\n",
       "    <tr>\n",
       "      <th>16</th>\n",
       "      <td>0.580755</td>\n",
       "      <td>room_size</td>\n",
       "    </tr>\n",
       "    <tr>\n",
       "      <th>17</th>\n",
       "      <td>0.571864</td>\n",
       "      <td>heat_fireplace_fQc</td>\n",
       "    </tr>\n",
       "    <tr>\n",
       "      <th>18</th>\n",
       "      <td>0.565280</td>\n",
       "      <td>YearRemodAdd</td>\n",
       "    </tr>\n",
       "    <tr>\n",
       "      <th>19</th>\n",
       "      <td>0.554017</td>\n",
       "      <td>GarageType</td>\n",
       "    </tr>\n",
       "    <tr>\n",
       "      <th>24</th>\n",
       "      <td>0.534065</td>\n",
       "      <td>Foundation_PConc</td>\n",
       "    </tr>\n",
       "    <tr>\n",
       "      <th>25</th>\n",
       "      <td>0.519619</td>\n",
       "      <td>MSSubClass</td>\n",
       "    </tr>\n",
       "    <tr>\n",
       "      <th>27</th>\n",
       "      <td>0.498778</td>\n",
       "      <td>BsmtQual</td>\n",
       "    </tr>\n",
       "    <tr>\n",
       "      <th>29</th>\n",
       "      <td>0.464437</td>\n",
       "      <td>HeatingQC</td>\n",
       "    </tr>\n",
       "    <tr>\n",
       "      <th>30</th>\n",
       "      <td>0.460125</td>\n",
       "      <td>OpenPorchSF</td>\n",
       "    </tr>\n",
       "    <tr>\n",
       "      <th>31</th>\n",
       "      <td>0.440232</td>\n",
       "      <td>YrGroup</td>\n",
       "    </tr>\n",
       "    <tr>\n",
       "      <th>32</th>\n",
       "      <td>0.419015</td>\n",
       "      <td>MasVnrArea</td>\n",
       "    </tr>\n",
       "    <tr>\n",
       "      <th>33</th>\n",
       "      <td>0.414149</td>\n",
       "      <td>MSZoning</td>\n",
       "    </tr>\n",
       "    <tr>\n",
       "      <th>34</th>\n",
       "      <td>0.401351</td>\n",
       "      <td>LotArea</td>\n",
       "    </tr>\n",
       "    <tr>\n",
       "      <th>36</th>\n",
       "      <td>0.375706</td>\n",
       "      <td>porch_score</td>\n",
       "    </tr>\n",
       "    <tr>\n",
       "      <th>38</th>\n",
       "      <td>0.365092</td>\n",
       "      <td>BsmtExposure</td>\n",
       "    </tr>\n",
       "    <tr>\n",
       "      <th>39</th>\n",
       "      <td>0.363773</td>\n",
       "      <td>LotFrontage</td>\n",
       "    </tr>\n",
       "    <tr>\n",
       "      <th>41</th>\n",
       "      <td>0.351821</td>\n",
       "      <td>CentralAir</td>\n",
       "    </tr>\n",
       "    <tr>\n",
       "      <th>43</th>\n",
       "      <td>0.349958</td>\n",
       "      <td>Neighborhood_NridgHt</td>\n",
       "    </tr>\n",
       "    <tr>\n",
       "      <th>44</th>\n",
       "      <td>0.342321</td>\n",
       "      <td>WoodDeckSF</td>\n",
       "    </tr>\n",
       "    <tr>\n",
       "      <th>45</th>\n",
       "      <td>0.340922</td>\n",
       "      <td>Foundation_CBlock</td>\n",
       "    </tr>\n",
       "    <tr>\n",
       "      <th>46</th>\n",
       "      <td>0.338840</td>\n",
       "      <td>Exterior2nd_VinylSd</td>\n",
       "    </tr>\n",
       "    <tr>\n",
       "      <th>48</th>\n",
       "      <td>0.333561</td>\n",
       "      <td>BsmtFinType1</td>\n",
       "    </tr>\n",
       "    <tr>\n",
       "      <th>49</th>\n",
       "      <td>0.322031</td>\n",
       "      <td>HalfBath</td>\n",
       "    </tr>\n",
       "    <tr>\n",
       "      <th>50</th>\n",
       "      <td>0.315316</td>\n",
       "      <td>MasVnrType_Stone</td>\n",
       "    </tr>\n",
       "    <tr>\n",
       "      <th>51</th>\n",
       "      <td>0.310066</td>\n",
       "      <td>years_model_0</td>\n",
       "    </tr>\n",
       "    <tr>\n",
       "      <th>52</th>\n",
       "      <td>0.305234</td>\n",
       "      <td>SaleType</td>\n",
       "    </tr>\n",
       "    <tr>\n",
       "      <th>53</th>\n",
       "      <td>0.302406</td>\n",
       "      <td>PavedDrive</td>\n",
       "    </tr>\n",
       "  </tbody>\n",
       "</table>\n",
       "</div>"
      ],
      "text/plain": [
       "    Correlations              Features\n",
       "2       0.756236          N_coded_mean\n",
       "5       0.687285            bath_score\n",
       "6       0.681593            GarageCars\n",
       "7       0.680300             ExterQual\n",
       "8       0.668678           KitchenQual\n",
       "10      0.613493              1stFlrSF\n",
       "11      0.606306         overall_score\n",
       "12      0.604789          GarageFinish\n",
       "13      0.600012             YearBuilt\n",
       "16      0.580755             room_size\n",
       "17      0.571864    heat_fireplace_fQc\n",
       "18      0.565280          YearRemodAdd\n",
       "19      0.554017            GarageType\n",
       "24      0.534065      Foundation_PConc\n",
       "25      0.519619            MSSubClass\n",
       "27      0.498778              BsmtQual\n",
       "29      0.464437             HeatingQC\n",
       "30      0.460125           OpenPorchSF\n",
       "31      0.440232               YrGroup\n",
       "32      0.419015            MasVnrArea\n",
       "33      0.414149              MSZoning\n",
       "34      0.401351               LotArea\n",
       "36      0.375706           porch_score\n",
       "38      0.365092          BsmtExposure\n",
       "39      0.363773           LotFrontage\n",
       "41      0.351821            CentralAir\n",
       "43      0.349958  Neighborhood_NridgHt\n",
       "44      0.342321            WoodDeckSF\n",
       "45      0.340922     Foundation_CBlock\n",
       "46      0.338840   Exterior2nd_VinylSd\n",
       "48      0.333561          BsmtFinType1\n",
       "49      0.322031              HalfBath\n",
       "50      0.315316      MasVnrType_Stone\n",
       "51      0.310066         years_model_0\n",
       "52      0.305234              SaleType\n",
       "53      0.302406            PavedDrive"
      ]
     },
     "metadata": {},
     "output_type": "display_data"
    }
   ],
   "source": [
    "def Multicollinear_Features():\n",
    "    corr = df.corr().abs()\n",
    "    features = []\n",
    "    correlations = []\n",
    "    for idx, correlation in corr['SalePrice'].T.iteritems():\n",
    "        if correlation >= .3 and idx != 'SalePrice':\n",
    "            features.append(idx)\n",
    "            correlations.append(correlation)\n",
    "    corr_price_df = pd.DataFrame({'Correlations':correlations, 'Features': features})\n",
    "    Multicollinear_Features = []\n",
    "    def check_multicollinearity(feature):\n",
    "        for idx, correlation in corr[feature].T.iteritems():\n",
    "            if correlation >= .8 and idx != feature and corr['SalePrice'].loc[feature] >= corr['SalePrice'].loc[idx]:\n",
    "                Multicollinear_Features.append({'Correlations':correlation,'Features':feature,'idx': idx})\n",
    "\n",
    "    for feature in corr:\n",
    "        check_multicollinearity(feature)\n",
    "    if len(Multicollinear_Features) > 0:\n",
    "        MC_df = pd.DataFrame(Multicollinear_Features)\n",
    "    else:\n",
    "        MC_df = pd.DataFrame(columns=['Correlations', 'Features','idx'])\n",
    "    print('Multicollinear Features')\n",
    "    MC_df.sort_values(by='Correlations',ascending=False,inplace=True)\n",
    "    MC_df.reset_index(drop=True,inplace=True)\n",
    "    display(MC_df)\n",
    "\n",
    "\n",
    "    corr_price_df.sort_values(by='Correlations',ascending=False,inplace=True)\n",
    "    corr_price_df.reset_index(drop=True,inplace=True)\n",
    "    print('Correlations with Price')\n",
    "    corr_price_df = corr_price_df.loc[~corr_price_df['Features'].isin(MC_df['idx'].to_list())]\n",
    "    display(corr_price_df)\n",
    "    return(MC_df,corr_price_df)\n",
    "\n",
    "MC_df,corr_price_df=Multicollinear_Features()"
   ]
  },
  {
   "cell_type": "code",
   "execution_count": 23,
   "metadata": {},
   "outputs": [
    {
     "name": "stderr",
     "output_type": "stream",
     "text": [
      "C:\\Users\\EngMA\\AppData\\Local\\Temp\\ipykernel_29076\\390521067.py:13: DeprecationWarning: The default dtype for empty Series will be 'object' instead of 'float64' in a future version. Specify a dtype explicitly to silence this warning.\n",
      "  new_pval = pd.Series(index=excluded)\n",
      "C:\\Users\\EngMA\\AppData\\Local\\Temp\\ipykernel_29076\\390521067.py:13: DeprecationWarning: The default dtype for empty Series will be 'object' instead of 'float64' in a future version. Specify a dtype explicitly to silence this warning.\n",
      "  new_pval = pd.Series(index=excluded)\n",
      "C:\\Users\\EngMA\\AppData\\Local\\Temp\\ipykernel_29076\\390521067.py:13: DeprecationWarning: The default dtype for empty Series will be 'object' instead of 'float64' in a future version. Specify a dtype explicitly to silence this warning.\n",
      "  new_pval = pd.Series(index=excluded)\n"
     ]
    },
    {
     "name": "stdout",
     "output_type": "stream",
     "text": [
      "Add  N_coded_mean                   with p-value 2.07917e-269\n",
      "Add  overall_score                  with p-value 9.56863e-104\n",
      "Add  1stFlrSF                       with p-value 2.44122e-97\n"
     ]
    },
    {
     "name": "stderr",
     "output_type": "stream",
     "text": [
      "C:\\Users\\EngMA\\AppData\\Local\\Temp\\ipykernel_29076\\390521067.py:13: DeprecationWarning: The default dtype for empty Series will be 'object' instead of 'float64' in a future version. Specify a dtype explicitly to silence this warning.\n",
      "  new_pval = pd.Series(index=excluded)\n",
      "C:\\Users\\EngMA\\AppData\\Local\\Temp\\ipykernel_29076\\390521067.py:13: DeprecationWarning: The default dtype for empty Series will be 'object' instead of 'float64' in a future version. Specify a dtype explicitly to silence this warning.\n",
      "  new_pval = pd.Series(index=excluded)\n"
     ]
    },
    {
     "name": "stdout",
     "output_type": "stream",
     "text": [
      "Add  bath_score                     with p-value 1.64714e-92\n",
      "Add  GarageCars                     with p-value 1.18105e-30\n"
     ]
    },
    {
     "name": "stderr",
     "output_type": "stream",
     "text": [
      "C:\\Users\\EngMA\\AppData\\Local\\Temp\\ipykernel_29076\\390521067.py:13: DeprecationWarning: The default dtype for empty Series will be 'object' instead of 'float64' in a future version. Specify a dtype explicitly to silence this warning.\n",
      "  new_pval = pd.Series(index=excluded)\n",
      "C:\\Users\\EngMA\\AppData\\Local\\Temp\\ipykernel_29076\\390521067.py:13: DeprecationWarning: The default dtype for empty Series will be 'object' instead of 'float64' in a future version. Specify a dtype explicitly to silence this warning.\n",
      "  new_pval = pd.Series(index=excluded)\n"
     ]
    },
    {
     "name": "stdout",
     "output_type": "stream",
     "text": [
      "Add  BsmtQual                       with p-value 3.4977e-22\n",
      "Add  MSSubClass                     with p-value 7.93235e-22\n"
     ]
    },
    {
     "name": "stderr",
     "output_type": "stream",
     "text": [
      "C:\\Users\\EngMA\\AppData\\Local\\Temp\\ipykernel_29076\\390521067.py:13: DeprecationWarning: The default dtype for empty Series will be 'object' instead of 'float64' in a future version. Specify a dtype explicitly to silence this warning.\n",
      "  new_pval = pd.Series(index=excluded)\n",
      "C:\\Users\\EngMA\\AppData\\Local\\Temp\\ipykernel_29076\\390521067.py:13: DeprecationWarning: The default dtype for empty Series will be 'object' instead of 'float64' in a future version. Specify a dtype explicitly to silence this warning.\n",
      "  new_pval = pd.Series(index=excluded)\n"
     ]
    },
    {
     "name": "stdout",
     "output_type": "stream",
     "text": [
      "Add  heat_fireplace_fQc             with p-value 3.94029e-17\n",
      "Add  LotArea                        with p-value 2.69524e-14\n"
     ]
    },
    {
     "name": "stderr",
     "output_type": "stream",
     "text": [
      "C:\\Users\\EngMA\\AppData\\Local\\Temp\\ipykernel_29076\\390521067.py:13: DeprecationWarning: The default dtype for empty Series will be 'object' instead of 'float64' in a future version. Specify a dtype explicitly to silence this warning.\n",
      "  new_pval = pd.Series(index=excluded)\n",
      "C:\\Users\\EngMA\\AppData\\Local\\Temp\\ipykernel_29076\\390521067.py:13: DeprecationWarning: The default dtype for empty Series will be 'object' instead of 'float64' in a future version. Specify a dtype explicitly to silence this warning.\n",
      "  new_pval = pd.Series(index=excluded)\n"
     ]
    },
    {
     "name": "stdout",
     "output_type": "stream",
     "text": [
      "Add  KitchenQual                    with p-value 2.60898e-16\n",
      "Add  HalfBath                       with p-value 1.56618e-09\n"
     ]
    },
    {
     "name": "stderr",
     "output_type": "stream",
     "text": [
      "C:\\Users\\EngMA\\AppData\\Local\\Temp\\ipykernel_29076\\390521067.py:13: DeprecationWarning: The default dtype for empty Series will be 'object' instead of 'float64' in a future version. Specify a dtype explicitly to silence this warning.\n",
      "  new_pval = pd.Series(index=excluded)\n",
      "C:\\Users\\EngMA\\AppData\\Local\\Temp\\ipykernel_29076\\390521067.py:13: DeprecationWarning: The default dtype for empty Series will be 'object' instead of 'float64' in a future version. Specify a dtype explicitly to silence this warning.\n",
      "  new_pval = pd.Series(index=excluded)\n"
     ]
    },
    {
     "name": "stdout",
     "output_type": "stream",
     "text": [
      "Add  BsmtFinType1                   with p-value 3.90709e-10\n",
      "Add  Foundation_PConc               with p-value 1.61049e-10\n"
     ]
    },
    {
     "name": "stderr",
     "output_type": "stream",
     "text": [
      "C:\\Users\\EngMA\\AppData\\Local\\Temp\\ipykernel_29076\\390521067.py:13: DeprecationWarning: The default dtype for empty Series will be 'object' instead of 'float64' in a future version. Specify a dtype explicitly to silence this warning.\n",
      "  new_pval = pd.Series(index=excluded)\n"
     ]
    },
    {
     "name": "stdout",
     "output_type": "stream",
     "text": [
      "Add  room_size                      with p-value 3.54935e-07\n",
      "Add  MSZoning                       with p-value 1.52696e-07\n"
     ]
    },
    {
     "name": "stderr",
     "output_type": "stream",
     "text": [
      "C:\\Users\\EngMA\\AppData\\Local\\Temp\\ipykernel_29076\\390521067.py:13: DeprecationWarning: The default dtype for empty Series will be 'object' instead of 'float64' in a future version. Specify a dtype explicitly to silence this warning.\n",
      "  new_pval = pd.Series(index=excluded)\n",
      "C:\\Users\\EngMA\\AppData\\Local\\Temp\\ipykernel_29076\\390521067.py:13: DeprecationWarning: The default dtype for empty Series will be 'object' instead of 'float64' in a future version. Specify a dtype explicitly to silence this warning.\n",
      "  new_pval = pd.Series(index=excluded)\n"
     ]
    },
    {
     "name": "stdout",
     "output_type": "stream",
     "text": [
      "Add  MasVnrType_Stone               with p-value 9.81307e-07\n",
      "Add  BsmtExposure                   with p-value 2.95276e-05\n"
     ]
    },
    {
     "name": "stderr",
     "output_type": "stream",
     "text": [
      "C:\\Users\\EngMA\\AppData\\Local\\Temp\\ipykernel_29076\\390521067.py:13: DeprecationWarning: The default dtype for empty Series will be 'object' instead of 'float64' in a future version. Specify a dtype explicitly to silence this warning.\n",
      "  new_pval = pd.Series(index=excluded)\n",
      "C:\\Users\\EngMA\\AppData\\Local\\Temp\\ipykernel_29076\\390521067.py:13: DeprecationWarning: The default dtype for empty Series will be 'object' instead of 'float64' in a future version. Specify a dtype explicitly to silence this warning.\n",
      "  new_pval = pd.Series(index=excluded)\n"
     ]
    },
    {
     "name": "stdout",
     "output_type": "stream",
     "text": [
      "Add  CentralAir                     with p-value 0.000104087\n",
      "Add  SaleType                       with p-value 7.04345e-05\n"
     ]
    },
    {
     "name": "stderr",
     "output_type": "stream",
     "text": [
      "C:\\Users\\EngMA\\AppData\\Local\\Temp\\ipykernel_29076\\390521067.py:13: DeprecationWarning: The default dtype for empty Series will be 'object' instead of 'float64' in a future version. Specify a dtype explicitly to silence this warning.\n",
      "  new_pval = pd.Series(index=excluded)\n",
      "C:\\Users\\EngMA\\AppData\\Local\\Temp\\ipykernel_29076\\390521067.py:13: DeprecationWarning: The default dtype for empty Series will be 'object' instead of 'float64' in a future version. Specify a dtype explicitly to silence this warning.\n",
      "  new_pval = pd.Series(index=excluded)\n"
     ]
    },
    {
     "name": "stdout",
     "output_type": "stream",
     "text": [
      "Add  YrGroup                        with p-value 0.000166067\n",
      "resulting features:\n",
      "['N_coded_mean', 'bath_score', 'GarageCars', 'KitchenQual', '1stFlrSF', 'overall_score', 'room_size', 'heat_fireplace_fQc', 'Foundation_PConc', 'MSSubClass', 'BsmtQual', 'YrGroup', 'MSZoning', 'LotArea', 'BsmtExposure', 'CentralAir', 'BsmtFinType1', 'HalfBath', 'MasVnrType_Stone', 'SaleType']\n"
     ]
    },
    {
     "name": "stderr",
     "output_type": "stream",
     "text": [
      "C:\\Users\\EngMA\\AppData\\Local\\Temp\\ipykernel_29076\\390521067.py:13: DeprecationWarning: The default dtype for empty Series will be 'object' instead of 'float64' in a future version. Specify a dtype explicitly to silence this warning.\n",
      "  new_pval = pd.Series(index=excluded)\n"
     ]
    }
   ],
   "source": [
    "import statsmodels.api as sm\n",
    "def stepwise_selection(X, y, \n",
    "                       initial_list=[], \n",
    "                       threshold_in=0.01, \n",
    "                       threshold_out = 0.05, \n",
    "                       verbose=True):\n",
    "    included = list(initial_list)\n",
    "    removed = []\n",
    "    while True:\n",
    "        changed=False\n",
    "        # forward step\n",
    "        excluded = list(set(X.columns)-set(included) - set(removed))\n",
    "        new_pval = pd.Series(index=excluded)\n",
    "        for new_column in excluded:\n",
    "            model = sm.OLS(y, sm.add_constant(pd.DataFrame(X[included+[new_column]]))).fit()\n",
    "            new_pval[new_column] = model.pvalues[new_column]\n",
    "        best_pval = new_pval.min()\n",
    "        if best_pval < threshold_in:\n",
    "            best_feature = new_pval.idxmin()\n",
    "            included.append(best_feature)\n",
    "            changed=True\n",
    "            if verbose:\n",
    "                print('Add  {:30} with p-value {:.6}'.format(best_feature, best_pval))\n",
    "\n",
    "        # backward step\n",
    "        model = sm.OLS(y, sm.add_constant(pd.DataFrame(X[included]))).fit()\n",
    "        # use all coefs except intercept\n",
    "        pvalues = model.pvalues.iloc[1:]\n",
    "        worst_pval = pvalues.max() # null if pvalues is empty\n",
    "        if worst_pval > threshold_out:\n",
    "            changed=True\n",
    "            worst_feature =model.pvalues.idxmax()\n",
    "            included.remove(worst_feature)\n",
    "            removed.append(worst_feature)\n",
    "            if verbose:\n",
    "                print('Drop {:30} with p-value {:.6}'.format(worst_feature, worst_pval))\n",
    "        if not changed:\n",
    "            break\n",
    "    return included\n",
    "\n",
    "result = stepwise_selection(df[corr_price_df['Features'].to_list()], df['SalePrice'], verbose=True)\n",
    "print('resulting features:')\n",
    "#result = result[:-1]\n",
    "result =corr_price_df.loc[corr_price_df['Features'].isin(result)]['Features'].to_list()\n",
    "print(result)"
   ]
  },
  {
   "cell_type": "code",
   "execution_count": 24,
   "metadata": {},
   "outputs": [
    {
     "data": {
      "text/plain": [
       "array([[ 1.75059978e+00,  2.29173671e-02,  8.64580906e-01, ...,\n",
       "         2.69463904e-02,  2.14449808e-02, -5.99466035e-01],\n",
       "       [ 1.75696164e+00, -4.23065811e-01, -2.09533515e-01, ...,\n",
       "        -4.05483718e-01,  4.19545611e-02,  3.09626854e-01],\n",
       "       [ 2.41538961e+00, -2.33062246e-01, -2.84669351e-01, ...,\n",
       "         3.52532283e-03, -5.72747507e-01, -1.06971958e-01],\n",
       "       ...,\n",
       "       [-3.81833406e+00, -3.03293693e-01,  1.44905223e+00, ...,\n",
       "        -8.23891940e-01, -1.09836565e-01, -9.66772704e-02],\n",
       "       [ 1.89610031e+00,  9.63294686e-01, -2.88573330e-01, ...,\n",
       "         3.24103061e-03, -3.32948600e-02,  3.87365059e-01],\n",
       "       [-2.33057937e+00, -4.39531832e-01,  1.08412996e+00, ...,\n",
       "         4.72790928e-01,  4.28087109e-01, -2.27810285e-02]])"
      ]
     },
     "execution_count": 24,
     "metadata": {},
     "output_type": "execute_result"
    }
   ],
   "source": [
    "scaled_X_train"
   ]
  },
  {
   "cell_type": "code",
   "execution_count": 25,
   "metadata": {},
   "outputs": [
    {
     "name": "stderr",
     "output_type": "stream",
     "text": [
      "C:\\Users\\EngMA\\anaconda3\\lib\\site-packages\\seaborn\\distributions.py:2619: FutureWarning: `distplot` is a deprecated function and will be removed in a future version. Please adapt your code to use either `displot` (a figure-level function with similar flexibility) or `histplot` (an axes-level function for histograms).\n",
      "  warnings.warn(msg, FutureWarning)\n"
     ]
    },
    {
     "name": "stdout",
     "output_type": "stream",
     "text": [
      "\n",
      " mu = 12.02 and sigma = 0.40\n",
      "\n"
     ]
    },
    {
     "data": {
      "image/png": "[encoded data removed]",
      "text/plain": [
       "<Figure size 432x288 with 1 Axes>"
      ]
     },
     "metadata": {
      "needs_background": "light"
     },
     "output_type": "display_data"
    },
    {
     "data": {
      "image/png": "[encoded data removed]",
      "text/plain": [
       "<Figure size 432x288 with 1 Axes>"
      ]
     },
     "metadata": {
      "needs_background": "light"
     },
     "output_type": "display_data"
    }
   ],
   "source": [
    "\n",
    "\n",
    "sns.distplot(y , fit=norm);\n",
    "\n",
    "# Get the fitted parameters used by the function\n",
    "(mu, sigma) = norm.fit(y)\n",
    "print( '\\n mu = {:.2f} and sigma = {:.2f}\\n'.format(mu, sigma))\n",
    "\n",
    "#Now plot the distribution\n",
    "plt.legend(['Normal dist. ($\\mu=$ {:.2f} and $\\sigma=$ {:.2f} )'.format(mu, sigma)],\n",
    "            loc='best')\n",
    "plt.ylabel('Frequency')\n",
    "plt.title('SalePrice distribution')\n",
    "\n",
    "#Get also the QQ-plot\n",
    "fig = plt.figure()\n",
    "res = stats.probplot(y, plot=plt)\n",
    "plt.show()"
   ]
  },
  {
   "cell_type": "code",
   "execution_count": 26,
   "metadata": {},
   "outputs": [
    {
     "name": "stdout",
     "output_type": "stream",
     "text": [
      "Train RMSE: 0.04902865044390966\n",
      "Test RMSE: 0.12821295424102186\n"
     ]
    }
   ],
   "source": [
    "rfr = RandomForestRegressor()\n",
    "\n",
    "rfr.fit(scaled_X_train, y_train)\n",
    "y_pred0 = rfr.predict(scaled_X_train)\n",
    "y_pred = rfr.predict(scaled_X_test)\n",
    "\n",
    "train_rmse = np.sqrt(mean_squared_error(y_train, y_pred0))\n",
    "test_rmse = np.sqrt(mean_squared_error(y_test, y_pred))\n",
    "\n",
    "print(f\"Train RMSE: {train_rmse}\\nTest RMSE: {test_rmse}\")"
   ]
  },
  {
   "cell_type": "code",
   "execution_count": 27,
   "metadata": {},
   "outputs": [],
   "source": [
    "#All_new_Features_Engineer\n",
    "# Train RMSE: 10288.67747112295\n",
    "# Test RMSE: 22162.708476053114\n",
    "\n",
    "#feature+AggSF+bath_score\n",
    "\n",
    "# Train RMSE: 9832.674992896827\n",
    "# Test RMSE: 25377.709301168707\n",
    "\n",
    "#second 5\n",
    "# Train RMSE: 10723.111244454583\n",
    "# Test RMSE: 26168.006099629893\n",
    "\n",
    "\n",
    "#first 5\n",
    "# Train RMSE: 10389.099787077312\n",
    "# Test RMSE: 26547.381106484325\n",
    "\n",
    "#132 with new_features\n",
    "# Train RMSE: 10284.494552381915\n",
    "# Test RMSE: 26142.563753785016\n",
    "\n",
    "\n",
    "# Features used =132 (the top important)\n",
    "# Train RMSE: 10872.57567244795\n",
    "# Test RMSE: 31327.169785464463\n",
    "\n",
    "# Features used =252 (the top important)\n",
    "# Train RMSE: 10968.0749225494\n",
    "# Test RMSE: 31317.279333587183\n",
    "\n",
    "# Features used =100 (the top important)\n",
    "# Train RMSE: 10805.823016808501\n",
    "# Test RMSE: 30911.613278398007\n",
    "\n",
    "# Features used =50 (the top important)\n",
    "# Train RMSE: 11240.72618642726\n",
    "# Test RMSE: 31044.837560894928\n",
    "\n",
    "\n",
    "# Features used =110 (the top important)\n",
    "# Train RMSE: 11110.878848400223\n",
    "# Test RMSE: 29879.21169545467\n",
    "\n",
    "\n",
    "\n",
    "#New_Change to the features\n",
    "# Train RMSE: 10421.514436464882\n",
    "# Test RMSE: 26817.191323233357\n",
    "\n",
    "\n",
    "\n"
   ]
  },
  {
   "cell_type": "code",
   "execution_count": 28,
   "metadata": {},
   "outputs": [
    {
     "name": "stdout",
     "output_type": "stream",
     "text": [
      "Train RMSE: 0.33262762602948587\n",
      "Test RMSE: 0.3399780348051234\n"
     ]
    }
   ],
   "source": [
    "lasso = Lasso()\n",
    "\n",
    "lasso.fit(X_train, y_train)\n",
    "y_pred0 = lasso.predict(X_train)\n",
    "y_pred = lasso.predict(X_test)\n",
    "\n",
    "train_rmse = np.sqrt(mean_squared_error(y_train, y_pred0))\n",
    "test_rmse = np.sqrt(mean_squared_error(y_test, y_pred))\n",
    "\n",
    "print(f\"Train RMSE: {train_rmse}\\nTest RMSE: {test_rmse}\")"
   ]
  },
  {
   "cell_type": "code",
   "execution_count": 29,
   "metadata": {},
   "outputs": [],
   "source": [
    "# Features used =132 (the top important)\n",
    "# Train RMSE: 26900.977127642407\n",
    "# Test RMSE: 34769.654663535606\n",
    "\n",
    "# Features used =252 (the top important)\n",
    "# Train RMSE: 23833.27467543582\n",
    "# Test RMSE: 34678.98027124445\n",
    "\n",
    "# Features used =100 (the top important)\n",
    "# Train RMSE: 27901.775089800736\n",
    "# Test RMSE: 33489.982852708585\n",
    "\n",
    "# Features used =50 (the top important)\n",
    "# Train RMSE: 32197.44009255128\n",
    "# Test RMSE: 34766.98996229141\n",
    "\n",
    "\n",
    "# Features used =110 (the top important)\n",
    "# Train RMSE: 27724.634237145012\n",
    "# Test RMSE: 34085.38022148854"
   ]
  },
  {
   "cell_type": "code",
   "execution_count": 30,
   "metadata": {},
   "outputs": [
    {
     "name": "stdout",
     "output_type": "stream",
     "text": [
      "0.8998147212260973\n",
      "Train RMSE: 0.08547542459085655\n",
      "Test RMSE: 0.12468098947465167\n"
     ]
    }
   ],
   "source": [
    "gbr = GradientBoostingRegressor()\n",
    "\n",
    "gbr.fit(scaled_X_train, y_train)\n",
    "y_pred0 = gbr.predict(scaled_X_train)\n",
    "y_pred = gbr.predict(scaled_X_test)\n",
    "\n",
    "train_rmse = np.sqrt(mean_squared_error(y_train, y_pred0))\n",
    "test_rmse = np.sqrt(mean_squared_error(y_test, y_pred))\n",
    "log_test_rmse = (np.sqrt(mean_squared_error(np.log(y_test), np.log(y_pred))))\n",
    "print(gbr.score(scaled_X_test,y_test))\n",
    "print(f\"Train RMSE: {train_rmse}\\nTest RMSE: {test_rmse}\")\n",
    "\n"
   ]
  },
  {
   "cell_type": "code",
   "execution_count": 31,
   "metadata": {},
   "outputs": [],
   "source": [
    "\n",
    "\n",
    "\n",
    "\n",
    "\n",
    "#first 5\n",
    "# Train RMSE: 13288.911665869116\n",
    "# Test RMSE: 22365.814302431485\n",
    "\n",
    "\n",
    "#new_feature with 132 used\n",
    "# Train RMSE: 13259.850231318695\n",
    "# Test RMSE: 22236.906192173377\n",
    "\n",
    "# Features used =132 (the top important)\n",
    "# Train RMSE: 13512.08241985413\n",
    "# Test RMSE: 26769.53712099131\n",
    "\n",
    "# Features used =252 (the top important)\n",
    "# Train RMSE: 13553.762894080202\n",
    "# Test RMSE: 27952.643952363356\n",
    "\n",
    "# Features used =100 (the top important)\n",
    "# Train RMSE: 13552.797778151087\n",
    "# Test RMSE: 27042.012674974452\n",
    "\n",
    "# Features used =50 (the top important)\n",
    "# Train RMSE: 14221.953043867901\n",
    "# Test RMSE: 27787.420929581058\n",
    "\n",
    "# Features used =110 (the top important)\n",
    "# Train RMSE: 13554.770504438837\n",
    "# Test RMSE: 27781.769012262015\n",
    "\n",
    "\n",
    "#new_feature\n",
    "# Train RMSE: 13306.04951653029\n",
    "# Test RMSE: 22458.126495254834\n",
    "\n",
    "\n"
   ]
  },
  {
   "cell_type": "code",
   "execution_count": 32,
   "metadata": {},
   "outputs": [],
   "source": [
    "# testing= pd.DataFrame()\n",
    "# testing[\"ytest\"]=y_test\n",
    "# testing[\"ypred\"]=y_pred\n",
    "# testing"
   ]
  },
  {
   "cell_type": "code",
   "execution_count": 33,
   "metadata": {},
   "outputs": [
    {
     "name": "stdout",
     "output_type": "stream",
     "text": [
      "Train RMSE: 0.03754213180374469\n",
      "Test RMSE: 0.12584510184999467\n"
     ]
    }
   ],
   "source": [
    "xgb = XGBRegressor(objective='reg:squarederror', n_estimators=1000, learning_rate=0.01, max_depth=7) \n",
    "\n",
    "xgb.fit(scaled_X_train, y_train)\n",
    "y_pred0 = xgb.predict(scaled_X_train)\n",
    "y_pred = xgb.predict(scaled_X_test)\n",
    "\n",
    "train_rmse = np.sqrt(mean_squared_error(y_train, y_pred0))\n",
    "test_rmse = np.sqrt(mean_squared_error(y_test, y_pred))\n",
    "\n",
    "print(f\"Train RMSE: {train_rmse}\\nTest RMSE: {test_rmse}\")"
   ]
  },
  {
   "cell_type": "code",
   "execution_count": 34,
   "metadata": {},
   "outputs": [],
   "source": [
    "\n",
    "#all_feature_Engineering\n",
    "# Train RMSE: 3345.2521874835797\n",
    "# Test RMSE: 20257.610299404685\n",
    "    \n",
    "    \n",
    "# Features used =132 (the top important)\n",
    "# Train RMSE: 4250.378115433559\n",
    "# Test RMSE: 28229.364003549268\n",
    "\n",
    "# Features used =252 (the top important)\n",
    "# Train RMSE: 4130.241498553838\n",
    "# Test RMSE: 28705.99171082086\n",
    "\n",
    "# Features used =100 (the top important)\n",
    "# Train RMSE: 4255.37150047599\n",
    "# Test RMSE: 28366.830013347975"
   ]
  },
  {
   "cell_type": "code",
   "execution_count": 35,
   "metadata": {},
   "outputs": [
    {
     "name": "stdout",
     "output_type": "stream",
     "text": [
      "Train RMSE: 0.12678717501963058\n",
      "Test RMSE: 0.1274092380478539\n"
     ]
    }
   ],
   "source": [
    "lr= LinearRegression()\n",
    "lr.fit(X_train, y_train)\n",
    "y_pred0 = lr.predict(X_train)\n",
    "y_pred = lr.predict(X_test)\n",
    "\n",
    "train_rmse = np.sqrt(mean_squared_error(y_train, y_pred0))\n",
    "test_rmse = np.sqrt(mean_squared_error(y_test, y_pred))\n",
    "    \n",
    "print(f\"Train RMSE: {train_rmse}\\nTest RMSE: {test_rmse}\")"
   ]
  },
  {
   "cell_type": "code",
   "execution_count": 36,
   "metadata": {},
   "outputs": [],
   "source": [
    "# Features used =132 (the top important)\n",
    "# Train RMSE: 26900.74418849311\n",
    "# Test RMSE: 34848.01954186513\n",
    "\n",
    "# Features used =252 (the top important)\n",
    "# Train RMSE: 26900.74418849311\n",
    "# Test RMSE: 34848.01954186513\n",
    "\n",
    "# Features used =100 (the top important)\n",
    "# Train RMSE: 27901.630973713163\n",
    "# Test RMSE: 33542.02163772606"
   ]
  },
  {
   "cell_type": "code",
   "execution_count": 37,
   "metadata": {},
   "outputs": [],
   "source": [
    "# feat_importances = pd.Series(rfr.feature_importances_, index=X.columns)\n",
    "# feat_importances.nlargest(30).plot(kind='barh')"
   ]
  },
  {
   "cell_type": "code",
   "execution_count": 38,
   "metadata": {},
   "outputs": [],
   "source": [
    "\n",
    "# new_important_features= feat_importances.sort_values(ascending=False)\n",
    "\n",
    "# # print(feat_importances.index)\n",
    "\n",
    "# # print(new_important_features.index)\n",
    "\n",
    "\n",
    "# important_index=[] \n",
    "# i=0\n",
    "\n",
    "# for j in new_important_features.index:\n",
    "#     important_index.append(j)\n",
    "#     if i>130:\n",
    "#         break\n",
    "#     i+=1\n",
    "    \n",
    "# len(important_index)    \n",
    " "
   ]
  },
  {
   "cell_type": "code",
   "execution_count": 39,
   "metadata": {},
   "outputs": [],
   "source": [
    "# # X = df.drop(\"SalePrice\", axis=1)\n",
    "# X = df[important_index]\n",
    "\n",
    "# y = np.log1p(df[\"SalePrice\"])\n",
    "# # y = df[\"SalePrice\"]\n",
    "\n",
    "# X_train, X_test, y_train, y_test = train_test_split(X, y, test_size=0.2, random_state=42)\n",
    "\n",
    "# ss = StandardScaler()\n",
    "# scaled_X_train = ss.fit_transform(X_train)\n",
    "# scaled_X_test = ss.transform(X_test)"
   ]
  },
  {
   "cell_type": "markdown",
   "metadata": {},
   "source": [
    "## Parameter Tuning: Grid Search"
   ]
  },
  {
   "cell_type": "code",
   "execution_count": 40,
   "metadata": {},
   "outputs": [],
   "source": [
    "# gbr_parameters = {'learning_rate': [0.01,0.02,0.03,0.04],\n",
    "#                   'subsample'    : [0.9, 0.5, 0.2, 0.1],\n",
    "#                   'n_estimators' : [100,500,1000, 1500],\n",
    "#                   'max_depth'    : [4,6,8,10]\n",
    "#                  }\n",
    "\n",
    "\n",
    "# grid_gbr = GridSearchCV(estimator= gbr, param_grid=gbr_parameters, cv=3, n_jobs=-1)\n",
    "\n",
    "# grid_gbr.fit(scaled_X_train, y_train)\n",
    "\n",
    "# print(\" Results from Grid Search \" )\n",
    "# print(\"\\n The best estimator across ALL searched params:\\n\",grid_gbr.best_estimator_)\n",
    "# print(\"\\n The best score across ALL searched params:\\n\",grid_gbr.best_score_)\n",
    "# print(\"\\n The best parameters across ALL searched params:\\n\",grid_gbr.best_params_)"
   ]
  },
  {
   "cell_type": "code",
   "execution_count": null,
   "metadata": {},
   "outputs": [],
   "source": []
  },
  {
   "cell_type": "code",
   "execution_count": 41,
   "metadata": {},
   "outputs": [],
   "source": [
    "# best_gbr = GradientBoostingRegressor(learning_rate=0.04, max_depth=4, n_estimators=200,\n",
    "#                           subsample=0.5)\n",
    "\n",
    "# best_gbr.fit(scaled_X_train, y_train)\n",
    "# y_pred0 = best_gbr.predict(scaled_X_train)\n",
    "# y_pred = best_gbr.predict(scaled_X_test)\n",
    "\n",
    "# train_rmse = np.sqrt(mean_squared_error(np.expm1(y_train), np.expm1(y_pred0)))\n",
    "# test_rmse = np.sqrt(mean_squared_error(np.expm1(y_test), np.expm1(y_pred)))\n",
    "\n",
    "# print(f\"Train RMSE: {train_rmse}\\nTest RMSE: {test_rmse}\")"
   ]
  },
  {
   "cell_type": "code",
   "execution_count": 42,
   "metadata": {},
   "outputs": [],
   "source": [
    "# np.expm1()"
   ]
  },
  {
   "cell_type": "code",
   "execution_count": 43,
   "metadata": {},
   "outputs": [],
   "source": [
    "# Features used =132 (the top important)\n",
    "# Train RMSE: 3269.8581991147457\n",
    "# Test RMSE: 25249.814217985793\n",
    "\n",
    "# Features used =252 (the top important)\n",
    "# Train RMSE: 3613.6860461828014\n",
    "# Test RMSE: 27421.66052895415"
   ]
  },
  {
   "cell_type": "code",
   "execution_count": 44,
   "metadata": {},
   "outputs": [],
   "source": [
    "def gridsearch(reg, param_grid):\n",
    "    \n",
    "    cv = GridSearchCV(\n",
    "    estimator=reg,\n",
    "    param_grid=param_grid,\n",
    "    scoring='neg_mean_squared_error', \n",
    "    cv=5, # количество фолдов\n",
    "    verbose=4, # сколько печатать сообщений\n",
    "    n_jobs=-1) # насколько параллелельно считаем\n",
    "    \n",
    "    cv.fit(scaled_X_train, y_train)\n",
    "    \n",
    "    best_params = cv.best_params_\n",
    "    best_params = str(best_params).replace(':', '=').replace('{', '').replace('}', '')    \n",
    "    best_params = str(best_params).replace(\"'\", '')\n",
    "    print(best_params)\n",
    "    return best_params"
   ]
  },
  {
   "cell_type": "code",
   "execution_count": 45,
   "metadata": {},
   "outputs": [],
   "source": [
    "def MSE(model):\n",
    "    model.fit(scaled_X_train, y_train)\n",
    "    \n",
    "    train_MSE = mean_squared_error(model.predict(scaled_X_train), y_train)**.5\n",
    "    test_MSE = mean_squared_error(model.predict(scaled_X_test), y_test)**.5\n",
    "  \n",
    "    return  print(\"train MSE:\", train_MSE), print(\"test MSE:\", test_MSE)"
   ]
  },
  {
   "cell_type": "code",
   "execution_count": 46,
   "metadata": {},
   "outputs": [],
   "source": [
    "def y_test_pred(model):\n",
    "    model.fit(scaled_X_train, y_train)\n",
    "    y_pred = np.exp(model.predict(scaled_X_test))\n",
    "    return y_pred"
   ]
  },
  {
   "cell_type": "code",
   "execution_count": 47,
   "metadata": {},
   "outputs": [
    {
     "name": "stdout",
     "output_type": "stream",
     "text": [
      "Fitting 5 folds for each of 8 candidates, totalling 40 fits\n",
      "copy_X= True, fit_intercept= True, n_jobs= -1, normalize= False\n"
     ]
    },
    {
     "data": {
      "text/plain": [
       "'copy_X= True, fit_intercept= True, n_jobs= -1, normalize= False'"
      ]
     },
     "execution_count": 47,
     "metadata": {},
     "output_type": "execute_result"
    }
   ],
   "source": [
    "gridsearch(LinearRegression(), {\n",
    "    'fit_intercept': [True, False],\n",
    "    'normalize': [True, False],\n",
    "    'copy_X': [True, False],\n",
    "    'n_jobs': [-1]})"
   ]
  },
  {
   "cell_type": "code",
   "execution_count": 48,
   "metadata": {},
   "outputs": [],
   "source": [
    "lin_reg = LinearRegression(copy_X= True, fit_intercept= True, n_jobs= -1, normalize= False)"
   ]
  },
  {
   "cell_type": "code",
   "execution_count": 49,
   "metadata": {},
   "outputs": [
    {
     "name": "stdout",
     "output_type": "stream",
     "text": [
      "train MSE: 0.12678717501963052\n",
      "test MSE: 0.12740923804785398\n"
     ]
    },
    {
     "data": {
      "text/plain": [
       "(None, None)"
      ]
     },
     "execution_count": 49,
     "metadata": {},
     "output_type": "execute_result"
    }
   ],
   "source": [
    "MSE(lin_reg)"
   ]
  },
  {
   "cell_type": "code",
   "execution_count": 50,
   "metadata": {},
   "outputs": [
    {
     "name": "stdout",
     "output_type": "stream",
     "text": [
      "Fitting 5 folds for each of 4 candidates, totalling 20 fits\n",
      "n_alphas= 100\n"
     ]
    },
    {
     "data": {
      "text/plain": [
       "'n_alphas= 100'"
      ]
     },
     "execution_count": 50,
     "metadata": {},
     "output_type": "execute_result"
    }
   ],
   "source": [
    "gridsearch(LassoCV(), {'n_alphas': [100, 150, 70, 50]})"
   ]
  },
  {
   "cell_type": "code",
   "execution_count": 51,
   "metadata": {},
   "outputs": [
    {
     "name": "stdout",
     "output_type": "stream",
     "text": [
      "train MSE: 0.1268972008128215\n",
      "test MSE: 0.12748826039660643\n"
     ]
    },
    {
     "data": {
      "text/plain": [
       "(None, None)"
      ]
     },
     "execution_count": 51,
     "metadata": {},
     "output_type": "execute_result"
    }
   ],
   "source": [
    "lasso = LassoCV(n_alphas= 100)\n",
    "MSE(lasso)"
   ]
  },
  {
   "cell_type": "code",
   "execution_count": 52,
   "metadata": {},
   "outputs": [
    {
     "name": "stdout",
     "output_type": "stream",
     "text": [
      "Fitting 5 folds for each of 4 candidates, totalling 20 fits\n",
      "fit_intercept= True, normalize= False\n"
     ]
    },
    {
     "data": {
      "text/plain": [
       "'fit_intercept= True, normalize= False'"
      ]
     },
     "execution_count": 52,
     "metadata": {},
     "output_type": "execute_result"
    }
   ],
   "source": [
    "gridsearch(RidgeCV(), {'fit_intercept': [True, False],\n",
    "                       'normalize': [True, False]})"
   ]
  },
  {
   "cell_type": "code",
   "execution_count": 53,
   "metadata": {},
   "outputs": [
    {
     "name": "stdout",
     "output_type": "stream",
     "text": [
      "train MSE: 0.1267926518133124\n",
      "test MSE: 0.1273709739589041\n"
     ]
    },
    {
     "data": {
      "text/plain": [
       "(None, None)"
      ]
     },
     "execution_count": 53,
     "metadata": {},
     "output_type": "execute_result"
    }
   ],
   "source": [
    "ridge = RidgeCV(fit_intercept= True, normalize= False)\n",
    "MSE(ridge)"
   ]
  },
  {
   "cell_type": "code",
   "execution_count": 54,
   "metadata": {},
   "outputs": [
    {
     "name": "stdout",
     "output_type": "stream",
     "text": [
      "Fitting 5 folds for each of 336 candidates, totalling 1680 fits\n",
      "fit_intercept= True, l1_ratio= 0.9, max_iter= 100, n_alphas= 50, normalize= True, random_state= 42\n"
     ]
    },
    {
     "data": {
      "text/plain": [
       "'fit_intercept= True, l1_ratio= 0.9, max_iter= 100, n_alphas= 50, normalize= True, random_state= 42'"
      ]
     },
     "execution_count": 54,
     "metadata": {},
     "output_type": "execute_result"
    }
   ],
   "source": [
    "gridsearch(ElasticNetCV(), {'l1_ratio': [.1, .5, .7, .9, .95, .99, 1],\n",
    "                           'n_alphas': [100, 150, 70, 50],\n",
    "                           'fit_intercept': [True, False],\n",
    "                           'normalize': [True, False],\n",
    "                           'max_iter': [100, 500, 150],\n",
    "                           'random_state': [42]})"
   ]
  },
  {
   "cell_type": "code",
   "execution_count": 55,
   "metadata": {},
   "outputs": [
    {
     "name": "stdout",
     "output_type": "stream",
     "text": [
      "train MSE: 0.13271600002785305\n",
      "test MSE: 0.13280415575789992\n"
     ]
    },
    {
     "data": {
      "text/plain": [
       "(None, None)"
      ]
     },
     "execution_count": 55,
     "metadata": {},
     "output_type": "execute_result"
    }
   ],
   "source": [
    "ElNetCV = ElasticNetCV(fit_intercept= True, l1_ratio= 0.1, max_iter= 100, n_alphas= 150, normalize= True, random_state= 42)\n",
    "MSE(ElNetCV)"
   ]
  },
  {
   "cell_type": "code",
   "execution_count": 56,
   "metadata": {},
   "outputs": [
    {
     "name": "stdout",
     "output_type": "stream",
     "text": [
      "Fitting 5 folds for each of 432 candidates, totalling 2160 fits\n",
      "criterion= mae, max_depth= 5, max_features= None, min_samples_split= 10, splitter= best\n"
     ]
    },
    {
     "data": {
      "text/plain": [
       "'criterion= mae, max_depth= 5, max_features= None, min_samples_split= 10, splitter= best'"
      ]
     },
     "execution_count": 56,
     "metadata": {},
     "output_type": "execute_result"
    }
   ],
   "source": [
    "gridsearch(DecisionTreeRegressor(), {\n",
    "    'criterion': ['mse', 'friedman_mse', 'mae', 'poisson'],\n",
    "    'splitter': ['best', 'random'],\n",
    "    'max_depth': [2, 3, 5, 10, 20, None],\n",
    "    'min_samples_split': [2, 5, 10],\n",
    "    'max_features': [0.5, 'sqrt', None]})"
   ]
  },
  {
   "cell_type": "code",
   "execution_count": 57,
   "metadata": {},
   "outputs": [
    {
     "name": "stdout",
     "output_type": "stream",
     "text": [
      "train MSE: 0.06683632996657117\n",
      "test MSE: 0.17555909257330304\n"
     ]
    },
    {
     "data": {
      "text/plain": [
       "(None, None)"
      ]
     },
     "execution_count": 57,
     "metadata": {},
     "output_type": "execute_result"
    }
   ],
   "source": [
    "dt = DecisionTreeRegressor(criterion= 'friedman_mse', max_depth= 20, max_features= 0.5, min_samples_split= 10, splitter= 'best')\n",
    "\n",
    "MSE(dt)"
   ]
  },
  {
   "cell_type": "code",
   "execution_count": 58,
   "metadata": {},
   "outputs": [
    {
     "name": "stdout",
     "output_type": "stream",
     "text": [
      "train MSE: 0.047966700042941256\n",
      "test MSE: 0.12856422269186427\n"
     ]
    },
    {
     "data": {
      "text/plain": [
       "(None, None)"
      ]
     },
     "execution_count": 58,
     "metadata": {},
     "output_type": "execute_result"
    }
   ],
   "source": [
    "rf = RandomForestRegressor (n_estimators = 1000, random_state = 42)\n",
    "\n",
    "MSE(rf)"
   ]
  },
  {
   "cell_type": "code",
   "execution_count": 59,
   "metadata": {},
   "outputs": [
    {
     "name": "stdout",
     "output_type": "stream",
     "text": [
      "train MSE: 0.0969247368441305\n",
      "test MSE: 0.1261173284479874\n"
     ]
    },
    {
     "data": {
      "text/plain": [
       "(None, None)"
      ]
     },
     "execution_count": 59,
     "metadata": {},
     "output_type": "execute_result"
    }
   ],
   "source": [
    "gbm = GradientBoostingRegressor(learning_rate=.12, n_estimators=50)\n",
    "MSE(gbm)"
   ]
  },
  {
   "cell_type": "code",
   "execution_count": 60,
   "metadata": {},
   "outputs": [
    {
     "name": "stdout",
     "output_type": "stream",
     "text": [
      "train MSE: 0.03731214486078056\n",
      "test MSE: 0.12866579175911974\n"
     ]
    },
    {
     "data": {
      "text/plain": [
       "(None, None)"
      ]
     },
     "execution_count": 60,
     "metadata": {},
     "output_type": "execute_result"
    }
   ],
   "source": [
    "\n",
    "l_gbm = LGBMRegressor(objective='regression')\n",
    "MSE(l_gbm)"
   ]
  },
  {
   "cell_type": "code",
   "execution_count": 61,
   "metadata": {},
   "outputs": [
    {
     "name": "stdout",
     "output_type": "stream",
     "text": [
      "Fitting 5 folds for each of 288 candidates, totalling 1440 fits\n",
      "[LightGBM] [Warning] Unknown parameter: class_weight\n",
      "[LightGBM] [Warning] Unknown parameter: balanced\n",
      "boosting_type= goss, class_weight = balanced, learning_rate= 0.1, n_estimators= 90, num_leaves= 40, objective= regression\n"
     ]
    },
    {
     "name": "stderr",
     "output_type": "stream",
     "text": [
      "C:\\Users\\EngMA\\anaconda3\\lib\\site-packages\\sklearn\\model_selection\\_search.py:918: UserWarning: One or more of the test scores are non-finite: [-1.85082844e-02 -1.86049684e-02 -1.83060841e-02 -1.86245116e-02\n",
      " -1.86283897e-02 -1.83822513e-02 -1.84721357e-02 -1.85611460e-02\n",
      " -1.82413139e-02 -1.90172012e-02 -1.95449350e-02 -1.91168121e-02\n",
      " -1.90725658e-02 -1.96054049e-02 -1.92323881e-02 -1.89867191e-02\n",
      " -1.95570534e-02 -1.90646175e-02 -7.26609931e-02 -7.26403398e-02\n",
      " -7.26658958e-02 -5.20914828e-02 -5.20823935e-02 -5.21295946e-02\n",
      " -7.81175105e-02 -7.80998798e-02 -7.81238725e-02 -1.85446897e-02\n",
      " -1.81743631e-02 -1.80858305e-02 -1.85443238e-02 -1.83601591e-02\n",
      " -1.82893926e-02 -1.85218096e-02 -1.81668254e-02 -1.80396385e-02\n",
      " -1.85082844e-02 -1.86049684e-02 -1.83060841e-02 -1.86245116e-02\n",
      " -1.86283897e-02 -1.83822513e-02 -1.84721357e-02 -1.85611460e-02\n",
      " -1.82413139e-02 -1.90172012e-02 -1.95449350e-02 -1.91168121e-02\n",
      " -1.90725658e-02 -1.96054049e-02 -1.92323881e-02 -1.89867191e-02\n",
      " -1.95570534e-02 -1.90646175e-02 -7.26609931e-02 -7.26403398e-02\n",
      " -7.26658958e-02 -5.20914828e-02 -5.20823935e-02 -5.21295946e-02\n",
      " -7.81175105e-02 -7.80998798e-02 -7.81238725e-02 -1.85446897e-02\n",
      " -1.81743631e-02 -1.80858305e-02 -1.85443238e-02 -1.83601591e-02\n",
      " -1.82893926e-02 -1.85218096e-02 -1.81668254e-02 -1.80396385e-02\n",
      " -1.50299180e+00 -1.50194159e+00 -1.50326758e+00 -1.06275220e+00\n",
      " -1.06232617e+00 -1.06252885e+00 -8.43134051e-01 -8.42245648e-01\n",
      " -8.43151017e-01 -2.27619688e-01 -2.28333632e-01 -2.26273440e-01\n",
      " -1.66899543e-01 -1.67307490e-01 -1.66440969e-01 -1.03396107e-01\n",
      " -1.03989346e-01 -1.02823600e-01 -2.44547522e+01 -2.44545448e+01\n",
      " -2.44556615e+01 -3.85317019e+01 -3.85317119e+01 -3.85327025e+01\n",
      " -1.56980118e+01 -1.56977042e+01 -1.56987117e+01 -1.90304841e+00\n",
      " -1.90318039e+00 -1.90273501e+00 -1.35917085e+00 -1.35886634e+00\n",
      " -1.35898476e+00 -1.10724799e+00 -1.10792198e+00 -1.10691301e+00\n",
      " -1.50299180e+00 -1.50194159e+00 -1.50326758e+00 -1.06275220e+00\n",
      " -1.06232617e+00 -1.06252885e+00 -8.43134051e-01 -8.42245648e-01\n",
      " -8.43151017e-01 -2.27619688e-01 -2.28333632e-01 -2.26273440e-01\n",
      " -1.66899543e-01 -1.67307490e-01 -1.66440969e-01 -1.03396107e-01\n",
      " -1.03989346e-01 -1.02823600e-01 -2.44547522e+01 -2.44545448e+01\n",
      " -2.44556615e+01 -3.85317019e+01 -3.85317119e+01 -3.85327025e+01\n",
      " -1.56980118e+01 -1.56977042e+01 -1.56987117e+01 -1.90304841e+00\n",
      " -1.90318039e+00 -1.90273501e+00 -1.35917085e+00 -1.35886634e+00\n",
      " -1.35898476e+00 -1.10724799e+00 -1.10792198e+00 -1.10691301e+00\n",
      " -1.85111033e-02 -1.81201973e-02 -1.83261446e-02 -1.89751573e-02\n",
      " -1.84346217e-02 -1.89327616e-02 -1.85133485e-02 -1.80229427e-02\n",
      " -1.84487583e-02 -2.12357635e-02 -2.08965883e-02 -2.10406242e-02\n",
      " -2.18643769e-02 -2.11619943e-02 -2.16146472e-02 -2.09872401e-02\n",
      " -2.06447320e-02 -2.07249778e-02 -7.26609931e-02 -7.26403398e-02\n",
      " -7.26658958e-02 -5.20914828e-02 -5.20823935e-02 -5.21295946e-02\n",
      " -7.81175105e-02 -7.80998798e-02 -7.81238725e-02 -1.82741883e-02\n",
      " -1.83060227e-02 -1.84336555e-02 -1.86194671e-02 -1.84400777e-02\n",
      " -1.87564571e-02 -1.81975807e-02 -1.82519695e-02 -1.84002394e-02\n",
      " -1.85111033e-02 -1.81201973e-02 -1.83261446e-02 -1.89751573e-02\n",
      " -1.84346217e-02 -1.89327616e-02 -1.85133485e-02 -1.80229427e-02\n",
      " -1.84487583e-02 -2.12357635e-02 -2.08965883e-02 -2.10406242e-02\n",
      " -2.18643769e-02 -2.11619943e-02 -2.16146472e-02 -2.09872401e-02\n",
      " -2.06447320e-02 -2.07249778e-02 -7.26609931e-02 -7.26403398e-02\n",
      " -7.26658958e-02 -5.20914828e-02 -5.20823935e-02 -5.21295946e-02\n",
      " -7.81175105e-02 -7.80998798e-02 -7.81238725e-02 -1.82741883e-02\n",
      " -1.83060227e-02 -1.84336555e-02 -1.86194671e-02 -1.84400777e-02\n",
      " -1.87564571e-02 -1.81975807e-02 -1.82519695e-02 -1.84002394e-02\n",
      "             nan             nan             nan             nan\n",
      "             nan             nan             nan             nan\n",
      "             nan             nan             nan             nan\n",
      "             nan             nan             nan             nan\n",
      "             nan             nan             nan             nan\n",
      "             nan             nan             nan             nan\n",
      "             nan             nan             nan             nan\n",
      "             nan             nan             nan             nan\n",
      "             nan             nan             nan             nan\n",
      "             nan             nan             nan             nan\n",
      "             nan             nan             nan             nan\n",
      "             nan             nan             nan             nan\n",
      "             nan             nan             nan             nan\n",
      "             nan             nan             nan             nan\n",
      "             nan             nan             nan             nan\n",
      "             nan             nan             nan             nan\n",
      "             nan             nan             nan             nan\n",
      "             nan             nan             nan             nan]\n",
      "  warnings.warn(\n"
     ]
    },
    {
     "data": {
      "text/plain": [
       "'boosting_type= goss, class_weight = balanced, learning_rate= 0.1, n_estimators= 90, num_leaves= 40, objective= regression'"
      ]
     },
     "execution_count": 61,
     "metadata": {},
     "output_type": "execute_result"
    }
   ],
   "source": [
    "gridsearch(LGBMRegressor(), {'boosting_type': ['gbdt', 'dart', 'goss', 'rf'],\n",
    "                                'num_leaves': [31, 40, 27],\n",
    "                                'learning_rate': [0.1, 0.2, 0.005, 0.09],\n",
    "                                'class_weight ': ['balanced', None],\n",
    "                                'n_estimators': [100, 150, 90], \n",
    "                                'objective' : ['regression']})"
   ]
  },
  {
   "cell_type": "code",
   "execution_count": 62,
   "metadata": {},
   "outputs": [
    {
     "name": "stdout",
     "output_type": "stream",
     "text": [
      "train MSE: 0.042208475529663954\n",
      "test MSE: 0.12857967389208508\n"
     ]
    },
    {
     "data": {
      "text/plain": [
       "(None, None)"
      ]
     },
     "execution_count": 62,
     "metadata": {},
     "output_type": "execute_result"
    }
   ],
   "source": [
    "l_gbm1 = LGBMRegressor(boosting_type= 'gbdt', class_weight ='balanced', learning_rate= 0.09, n_estimators= 150, num_leaves= 31, objective= 'regression')\n",
    "MSE(l_gbm1)"
   ]
  },
  {
   "cell_type": "code",
   "execution_count": 63,
   "metadata": {},
   "outputs": [],
   "source": [
    "def stacking(estimator1, estimator2, final_estimator):\n",
    "    estimators = [('1', estimator1),\n",
    "                 ('2', estimator2)]\n",
    "    stacking = StackingRegressor(estimators=estimators, \n",
    "                                final_estimator= final_estimator)\n",
    "    stacking.fit(scaled_X_train, y_train)\n",
    "    \n",
    "    train_MSE = mean_squared_error(stacking.predict(scaled_X_train), y_train)**.5\n",
    "    test_MSE = mean_squared_error(stacking.predict(scaled_X_test), y_test)**.5\n",
    "    return print('train MSE: ', train_MSE), print('test MSE: ', test_MSE)"
   ]
  },
  {
   "cell_type": "code",
   "execution_count": 64,
   "metadata": {},
   "outputs": [
    {
     "name": "stdout",
     "output_type": "stream",
     "text": [
      "train MSE:  0.08942615600959912\n",
      "test MSE:  0.12317639757291042\n"
     ]
    },
    {
     "data": {
      "text/plain": [
       "(None, None)"
      ]
     },
     "execution_count": 64,
     "metadata": {},
     "output_type": "execute_result"
    }
   ],
   "source": [
    "stacking(l_gbm, ridge, lin_reg)"
   ]
  },
  {
   "cell_type": "code",
   "execution_count": null,
   "metadata": {},
   "outputs": [],
   "source": []
  },
  {
   "cell_type": "code",
   "execution_count": null,
   "metadata": {},
   "outputs": [],
   "source": []
  },
  {
   "cell_type": "code",
   "execution_count": null,
   "metadata": {},
   "outputs": [],
   "source": []
  },
  {
   "cell_type": "code",
   "execution_count": null,
   "metadata": {},
   "outputs": [],
   "source": []
  },
  {
   "cell_type": "code",
   "execution_count": null,
   "metadata": {},
   "outputs": [],
   "source": []
  },
  {
   "cell_type": "code",
   "execution_count": 65,
   "metadata": {},
   "outputs": [],
   "source": [
    "lrrr = GradientBoostingRegressor()"
   ]
  },
  {
   "cell_type": "code",
   "execution_count": 66,
   "metadata": {},
   "outputs": [],
   "source": [
    "model = lrrr.fit(scaled_X_train, y_train)"
   ]
  },
  {
   "cell_type": "code",
   "execution_count": 67,
   "metadata": {},
   "outputs": [
    {
     "name": "stdout",
     "output_type": "stream",
     "text": [
      "R^2 is: \n",
      " 0.8995753782392603\n"
     ]
    }
   ],
   "source": [
    "print (\"R^2 is: \\n\", model.score(scaled_X_test, y_test))"
   ]
  },
  {
   "cell_type": "code",
   "execution_count": 68,
   "metadata": {},
   "outputs": [],
   "source": [
    "predictions = model.predict(scaled_X_test)"
   ]
  },
  {
   "cell_type": "code",
   "execution_count": 69,
   "metadata": {},
   "outputs": [
    {
     "name": "stdout",
     "output_type": "stream",
     "text": [
      "RMSE is: \n",
      " 0.015582487030680246\n"
     ]
    }
   ],
   "source": [
    "print ('RMSE is: \\n', mean_squared_error(y_test, predictions))"
   ]
  },
  {
   "cell_type": "code",
   "execution_count": null,
   "metadata": {},
   "outputs": [],
   "source": []
  },
  {
   "cell_type": "code",
   "execution_count": null,
   "metadata": {},
   "outputs": [],
   "source": []
  },
  {
   "cell_type": "code",
   "execution_count": null,
   "metadata": {},
   "outputs": [],
   "source": []
  },
  {
   "cell_type": "code",
   "execution_count": 70,
   "metadata": {},
   "outputs": [],
   "source": [
    "from sklearn import linear_model\n",
    "from sklearn import ensemble\n",
    "\n",
    "#lr =  ensemble.RandomForestRegressor(n_estimators = 100, oob_score = True, n_jobs = -1,random_state =50,max_features = \"sqrt\", min_samples_leaf = 50)\n",
    "#lr = linear_model.LinearRegression()\n",
    "lr = ensemble.GradientBoostingRegressor()\n",
    "#lr = linear_model.TheilSenRegressor()\n",
    "#lr = linear_model.RANSACRegressor(random_state=50)"
   ]
  },
  {
   "cell_type": "code",
   "execution_count": 71,
   "metadata": {},
   "outputs": [],
   "source": [
    "model = lr.fit(scaled_X_train, y_train)"
   ]
  },
  {
   "cell_type": "code",
   "execution_count": 72,
   "metadata": {},
   "outputs": [
    {
     "name": "stdout",
     "output_type": "stream",
     "text": [
      "R^2 is: \n",
      " 0.8996081167495038\n"
     ]
    }
   ],
   "source": [
    "print (\"R^2 is: \\n\", model.score(scaled_X_test, y_test))"
   ]
  },
  {
   "cell_type": "code",
   "execution_count": 73,
   "metadata": {},
   "outputs": [],
   "source": [
    "predictions = model.predict(scaled_X_test)"
   ]
  },
  {
   "cell_type": "code",
   "execution_count": 74,
   "metadata": {},
   "outputs": [
    {
     "name": "stdout",
     "output_type": "stream",
     "text": [
      "RMSE is: \n",
      " 0.12480948332135738\n"
     ]
    }
   ],
   "source": [
    "from sklearn.metrics import mean_squared_error\n",
    "print ('RMSE is: \\n', np.sqrt(mean_squared_error(y_test, predictions)))"
   ]
  },
  {
   "cell_type": "code",
   "execution_count": 75,
   "metadata": {},
   "outputs": [
    {
     "data": {
      "text/plain": [
       "Text(0.5, 1.0, 'Linear Regression Model')"
      ]
     },
     "execution_count": 75,
     "metadata": {},
     "output_type": "execute_result"
    },
    {
     "data": {
      "image/png": "[encoded data removed]",
      "text/plain": [
       "<Figure size 432x288 with 1 Axes>"
      ]
     },
     "metadata": {
      "needs_background": "light"
     },
     "output_type": "display_data"
    }
   ],
   "source": [
    "actual_values = y_test\n",
    "plt.scatter(predictions, actual_values, alpha=.75,\n",
    "            color='b') #alpha helps to show overlapping data\n",
    "plt.xlabel('Predicted Price')\n",
    "plt.ylabel('Actual Price')\n",
    "plt.title('Linear Regression Model')\n",
    "#pltrandom_state=None.show()"
   ]
  },
  {
   "cell_type": "code",
   "execution_count": 76,
   "metadata": {},
   "outputs": [
    {
     "data": {
      "image/png": "[encoded data removed]",
      "text/plain": [
       "<Figure size 432x288 with 1 Axes>"
      ]
     },
     "metadata": {
      "needs_background": "light"
     },
     "output_type": "display_data"
    },
    {
     "data": {
      "image/png": "[encoded data removed]",
      "text/plain": [
       "<Figure size 432x288 with 1 Axes>"
      ]
     },
     "metadata": {
      "needs_background": "light"
     },
     "output_type": "display_data"
    },
    {
     "data": {
      "image/png": "[encoded data removed]",
      "text/plain": [
       "<Figure size 432x288 with 1 Axes>"
      ]
     },
     "metadata": {
      "needs_background": "light"
     },
     "output_type": "display_data"
    },
    {
     "data": {
      "image/png": "[encoded data removed]",
      "text/plain": [
       "<Figure size 432x288 with 1 Axes>"
      ]
     },
     "metadata": {
      "needs_background": "light"
     },
     "output_type": "display_data"
    },
    {
     "data": {
      "image/png": "[encoded data removed]",
      "text/plain": [
       "<Figure size 432x288 with 1 Axes>"
      ]
     },
     "metadata": {
      "needs_background": "light"
     },
     "output_type": "display_data"
    }
   ],
   "source": [
    "for i in range (-2, 3):\n",
    "    alpha = 10**i\n",
    "    rm = linear_model.Ridge(alpha=alpha)\n",
    "    ridge_model = rm.fit(scaled_X_train, y_train)\n",
    "    preds_ridge = ridge_model.predict(scaled_X_test)\n",
    "    \n",
    "    plt.scatter(preds_ridge, actual_values, alpha=.75, color='b')\n",
    "    plt.xlabel('Predicted Price')\n",
    "    plt.ylabel('Actual Price')\n",
    "    plt.title('Ridge Regularization with alpha = {}'.format(alpha))\n",
    "    overlay = 'R^2 is: {}\\nRMSE is: {}'.format(\n",
    "                    ridge_model.score(scaled_X_test, y_test),\n",
    "                    np.sqrt(mean_squared_error(y_test, preds_ridge)))\n",
    "    plt.annotate(text=overlay,xy=(12.1,10.6),size='x-large')\n",
    "    plt.show()"
   ]
  },
  {
   "cell_type": "code",
   "execution_count": 77,
   "metadata": {},
   "outputs": [],
   "source": [
    "from sklearn.base import BaseEstimator, TransformerMixin, RegressorMixin, clone\n",
    "class AverageWeight(BaseEstimator, RegressorMixin):\n",
    "    def __init__(self,mod,weight):\n",
    "        self.mod = mod\n",
    "        self.weight = weight\n",
    "        \n",
    "    def fit(self,X_train,y_train):\n",
    "        self.models_ = [clone(x) for x in self.mod]\n",
    "        for model in self.models_:\n",
    "            model.fit(X_train,y_train)\n",
    "        return self\n",
    "    \n",
    "    def predict(self,X_test):\n",
    "        w = list()\n",
    "        pred = np.array([model.predict(X_test) for model in self.models_])\n",
    "        # for every data point, single model prediction times weight, then add them together\n",
    "        for data in range(pred.shape[1]):\n",
    "            single = [pred[model,data]*weight for model,weight in zip(range(pred.shape[0]),self.weight)]\n",
    "            w.append(np.sum(single))\n",
    "        return w"
   ]
  },
  {
   "cell_type": "code",
   "execution_count": 78,
   "metadata": {},
   "outputs": [],
   "source": [
    "from sklearn.linear_model import Ridge\n",
    "from sklearn.svm import SVR, LinearSVR\n",
    "from sklearn.kernel_ridge import KernelRidge\n",
    "from sklearn.linear_model import ElasticNet, SGDRegressor, BayesianRidge\n",
    "lasso = Lasso(alpha=0.0005,max_iter=10000)\n",
    "ridge = Ridge(alpha=60)\n",
    "svr = SVR(gamma= 0.0004,kernel='rbf',C=13,epsilon=0.009)\n",
    "ker = KernelRidge(alpha=0.2 ,kernel='polynomial',degree=3 , coef0=0.8)\n",
    "ela = ElasticNet(alpha=0.005,l1_ratio=0.08,max_iter=10000)\n",
    "bay = BayesianRidge()"
   ]
  },
  {
   "cell_type": "code",
   "execution_count": 79,
   "metadata": {},
   "outputs": [],
   "source": [
    "# assign weights based on their gridsearch score\n",
    "w1 = 0.02\n",
    "w2 = 0.2\n",
    "w3 = 0.25\n",
    "w4 = 0.3\n",
    "w5 = 0.03\n",
    "w6 = 0.2"
   ]
  },
  {
   "cell_type": "code",
   "execution_count": 80,
   "metadata": {},
   "outputs": [],
   "source": [
    "weight_avg = AverageWeight(mod = [lasso,ridge,svr,ker,ela,bay],weight=[w1,w2,w3,w4,w5,w6])"
   ]
  },
  {
   "cell_type": "code",
   "execution_count": 81,
   "metadata": {},
   "outputs": [],
   "source": [
    "from sklearn.model_selection import cross_val_score, GridSearchCV, KFold\n",
    "def rmse_cv(model,X,y):\n",
    "    rmse = np.sqrt(-cross_val_score(model, X, y, scoring=\"neg_mean_squared_error\", cv=6))\n",
    "    return rmse"
   ]
  },
  {
   "cell_type": "code",
   "execution_count": 82,
   "metadata": {},
   "outputs": [
    {
     "data": {
      "text/plain": [
       "(array([0.17151044, 0.12738369, 0.1226509 , 0.14110502, 0.17904024,\n",
       "        0.14802801]),\n",
       " 0.14828638225212074)"
      ]
     },
     "execution_count": 82,
     "metadata": {},
     "output_type": "execute_result"
    }
   ],
   "source": [
    "rmse_cv(weight_avg,scaled_X_test,y_test),  rmse_cv(weight_avg,scaled_X_test,y_test).mean()"
   ]
  },
  {
   "cell_type": "code",
   "execution_count": 83,
   "metadata": {},
   "outputs": [],
   "source": [
    "weight_avg = AverageWeight(mod = [ridge,ker,bay],weight=[0.4,0.3,0.3])"
   ]
  },
  {
   "cell_type": "code",
   "execution_count": 84,
   "metadata": {},
   "outputs": [
    {
     "data": {
      "text/plain": [
       "(array([0.17062446, 0.12541553, 0.12342581, 0.14276683, 0.17880969,\n",
       "        0.14990295]),\n",
       " 0.14849087876088654)"
      ]
     },
     "execution_count": 84,
     "metadata": {},
     "output_type": "execute_result"
    }
   ],
   "source": [
    "rmse_cv(weight_avg,scaled_X_test,y_test),  rmse_cv(weight_avg,scaled_X_test,y_test).mean()"
   ]
  },
  {
   "cell_type": "code",
   "execution_count": null,
   "metadata": {},
   "outputs": [],
   "source": []
  }
 ],
 "metadata": {
  "kernelspec": {
   "display_name": "Python 3 (ipykernel)",
   "language": "python",
   "name": "python3"
  },
  "language_info": {
   "codemirror_mode": {
    "name": "ipython",
    "version": 3
   },
   "file_extension": ".py",
   "mimetype": "text/x-python",
   "name": "python",
   "nbconvert_exporter": "python",
   "pygments_lexer": "ipython3",
   "version": "3.8.8"
  },
  "vscode": {
   "interpreter": {
    "hash": "4c10cfeef08723cf1d9ac9f4fac9a895c178ca21632044675b85c880c61ee6c0"
   }
  }
 },
 "nbformat": 4,
 "nbformat_minor": 2
}
